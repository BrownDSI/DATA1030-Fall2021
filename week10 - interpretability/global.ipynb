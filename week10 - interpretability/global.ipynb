{
 "cells": [
  {
   "attachments": {},
   "cell_type": "markdown",
   "metadata": {},
   "source": [
    "## Mud card answers\n",
    "- **why we change the confusion matrix to get condition negative and condition positive to have 90% of accuracy?**\n",
    "    - the confusion matrix didn't change, we just normalize it differently\n",
    "- **We are going to learn AB testing next class?**\n",
    "    - we will cover a bit of that after the thanksgiving break\n",
    "    - AB testing is also known as hypothesis testing and you'll cover more of that in data2020\n",
    "- **Actually I can't find the sample_weight in XGbosst. Also I plug it in params and the RMSE does not change. I find a similar name that \"sample_type: weighted. \" Is that the class weight in xgb?**\n",
    "    - search for 'sample_weight' in the python api [here](https://xgboost.readthedocs.io/en/latest/python/python_api.html)\n",
    "    - I'm not sure what values you tried with sample_weight but RMSE is a regression metric, sample weight is most useful in imbalanced classification\n",
    "- **Can you please explain one more time how it works when all features in test set are all missing?**\n",
    "    - I recommend you read through the two papers I linked\n",
    "    - you can still train models if you have other features that are complete\n",
    "    - e.g., in the kaggle house price dataset, three features contain missing values and 218 features are complete\n",
    "    - even if all three features are missing, you can still use the other 218 features\n",
    "- **a bit confused on when to apply reduced features vs XGB**\n",
    "    - when you work with missing data, you'll likely want to try both\n",
    "- **For the accuracy example you showed in class, the deployed model had an accuracy below the baseline. Is this always the case? I have nothing other than intuition telling me that it should be at least at baseline some of the time, but I don't necessarily see how.**\n",
    "    - accuracy can be under the baseline but such models are not useful"
   ]
  },
  {
   "cell_type": "markdown",
   "metadata": {
    "slideshow": {
     "slide_type": "slide"
    }
   },
   "source": [
    "## Global feature importance metrics\n",
    "By the end of this module, you will be able to\n",
    " - perform permutation feature importance calculation\n",
    " - study the coefficients of linear models\n",
    " - outlook to other metrics "
   ]
  },
  {
   "cell_type": "markdown",
   "metadata": {},
   "source": [
    "## The supervised ML pipeline\n",
    "The goal: Use the training data (X and y) to develop a <font color='red'>model</font> which can <font color='red'>accurately</font> predict the target variable (y_new') for previously unseen data (X_new).\n",
    "\n",
    "**1. Exploratory Data Analysis (EDA)**: you need to understand your data and verify that it doesn't contain errors\n",
    "   - do as much EDA as you can!\n",
    "    \n",
    "**2. Split the data into different sets**: most often the sets are train, validation, and test (or holdout)\n",
    "   - practitioners often make errors in this step!\n",
    "   - you can split the data randomly, based on groups, based on time, or any other non-standard way if necessary to answer your ML question\n",
    "\n",
    "**3. Preprocess the data**: ML models only work if X and Y are numbers! Some ML models additionally require each feature to have 0 mean and 1 standard deviation (standardized features)\n",
    "   - often the original features you get contain strings (for example a gender feature would contain 'male', 'female', 'non-binary', 'unknown') which needs to transformed into numbers\n",
    "   - often the features are not standardized (e.g., age is between 0 and 100) but it needs to be standardized\n",
    "    \n",
    "**4. Choose an evaluation metric**: depends on the priorities of the stakeholders\n",
    "   - often requires quite a bit of thinking and ethical considerations\n",
    "     \n",
    "**5. Choose one or more ML techniques**: it is highly recommended that you try multiple models\n",
    "   - start with simple models like linear or logistic regression\n",
    "   - try also more complex models like nearest neighbors, support vector machines, random forest, etc.\n",
    "    \n",
    "**6. Tune the hyperparameters of your ML models (aka cross-validation)**\n",
    "   - ML techniques have hyperparameters that you need to optimize to achieve best performance\n",
    "   - for each ML model, decide which parameters to tune and what values to try\n",
    "   - loop through each parameter combination\n",
    "       - train one model for each parameter combination\n",
    "       - evaluate how well the model performs on the validation set\n",
    "   - take the parameter combo that gives the best validation score\n",
    "   - evaluate that model on the test set to report how well the model is expected to perform on previously unseen data\n",
    "    \n",
    "<span style=\"background-color: #FFFF00\"> **7. Interpret your model**: black boxes are often not useful</span>\n",
    "   - check if your model uses features that make sense (excellent tool for debugging)\n",
    "   - often model predictions are not enough, you need to be able to explain how the model arrived to a particular prediction (e.g., in health care)"
   ]
  },
  {
   "cell_type": "markdown",
   "metadata": {
    "slideshow": {
     "slide_type": "slide"
    }
   },
   "source": [
    "## Motivation\n",
    " - debugging ML models is tough\n",
    "    - a model that runs without errors/warning is not necessarily correct\n",
    " - how do you know that you model is correct?\n",
    "    - check test set predictions\n",
    "       - in regression: check points with a large difference between true and predicted values\n",
    "       - in classification: confusion matrix, check out FPs and FNs\n",
    "    - inspect your model\n",
    "       - especially useful for non-linear models\n",
    "       - metrics to measure how much a model depends on a feature is one way to inspect your model"
   ]
  },
  {
   "cell_type": "markdown",
   "metadata": {
    "slideshow": {
     "slide_type": "slide"
    }
   },
   "source": [
    "## <font color='LIGHTGRAY'>Global feature importance metrics</font>\n",
    "<font color='LIGHTGRAY'>By the end of this module, you will be able to</font>\n",
    " - **perform permutation feature importance calculation**\n",
    " - <font color='LIGHTGRAY'>study coefficients of linear models</font>\n",
    " - <font color='LIGHTGRAY'>outlook to other metrics </font>"
   ]
  },
  {
   "cell_type": "markdown",
   "metadata": {
    "slideshow": {
     "slide_type": "slide"
    }
   },
   "source": [
    "## Permutation feature importance\n",
    " - model agnostic, you can use it with any supervised ML model\n",
    " - steps:\n",
    "    - train a model and calculate a test score :)\n",
    "    - randomly shuffle a single feature in the test set\n",
    "    - recalculate the test score with the shuffled data\n",
    "    - model score worsens because the shuffling breaks the relationship between feature and target\n",
    "    - the larger the difference, the more important the feature is"
   ]
  },
  {
   "cell_type": "code",
   "execution_count": 1,
   "metadata": {
    "slideshow": {
     "slide_type": "slide"
    }
   },
   "outputs": [
    {
     "name": "stdout",
     "output_type": "stream",
     "text": [
      "   age          workclass  fnlwgt   education  education-num  \\\n",
      "0   39          State-gov   77516   Bachelors             13   \n",
      "1   50   Self-emp-not-inc   83311   Bachelors             13   \n",
      "2   38            Private  215646     HS-grad              9   \n",
      "3   53            Private  234721        11th              7   \n",
      "4   28            Private  338409   Bachelors             13   \n",
      "\n",
      "        marital-status          occupation    relationship    race      sex  \\\n",
      "0        Never-married        Adm-clerical   Not-in-family   White     Male   \n",
      "1   Married-civ-spouse     Exec-managerial         Husband   White     Male   \n",
      "2             Divorced   Handlers-cleaners   Not-in-family   White     Male   \n",
      "3   Married-civ-spouse   Handlers-cleaners         Husband   Black     Male   \n",
      "4   Married-civ-spouse      Prof-specialty            Wife   Black   Female   \n",
      "\n",
      "   capital-gain  capital-loss  hours-per-week  native-country  \n",
      "0          2174             0              40   United-States  \n",
      "1             0             0              13   United-States  \n",
      "2             0             0              40   United-States  \n",
      "3             0             0              40   United-States  \n",
      "4             0             0              40            Cuba  \n",
      "[0 0 0 ... 0 0 1]\n"
     ]
    }
   ],
   "source": [
    "import numpy as np\n",
    "import pandas as pd\n",
    "from sklearn.preprocessing import LabelEncoder\n",
    "from sklearn.svm import SVC\n",
    "from sklearn.pipeline import make_pipeline\n",
    "from sklearn.model_selection import GridSearchCV\n",
    "from sklearn.model_selection import train_test_split\n",
    "from sklearn.model_selection import StratifiedKFold\n",
    "from sklearn.preprocessing import StandardScaler\n",
    "from sklearn.compose import ColumnTransformer\n",
    "from sklearn.pipeline import Pipeline\n",
    "from sklearn.preprocessing import OneHotEncoder\n",
    "import matplotlib.pylab as plt\n",
    "\n",
    "df = pd.read_csv('data/adult_data.csv')\n",
    "label = 'gross-income'\n",
    "y = LabelEncoder().fit_transform(df[label])\n",
    "df.drop(columns=[label],inplace=True)\n",
    "X = df\n",
    "ftr_names = X.columns\n",
    "print(X.head())\n",
    "print(y)"
   ]
  },
  {
   "cell_type": "code",
   "execution_count": 2,
   "metadata": {
    "slideshow": {
     "slide_type": "slide"
    }
   },
   "outputs": [],
   "source": [
    "def ML_pipeline_kfold(X,y,random_state,n_folds):\n",
    "    # create a test set\n",
    "    X_other, X_test, y_other, y_test = train_test_split(X, y, test_size=0.2, random_state = random_state)\n",
    "    # splitter for _other\n",
    "    kf = StratifiedKFold(n_splits=n_folds,shuffle=True,random_state=random_state)\n",
    "    # create the pipeline: preprocessor + supervised ML method\n",
    "    cat_ftrs = ['workclass','education','marital-status','occupation','relationship','race','sex','native-country']\n",
    "    cont_ftrs = ['age','fnlwgt','education-num','capital-gain','capital-loss','hours-per-week']\n",
    "    # one-hot encoder\n",
    "    categorical_transformer = Pipeline(steps=[\n",
    "        ('onehot', OneHotEncoder(sparse=False,handle_unknown='ignore'))])\n",
    "    # standard scaler\n",
    "    numeric_transformer = Pipeline(steps=[\n",
    "        ('scaler', StandardScaler())])\n",
    "    preprocessor = ColumnTransformer(\n",
    "        transformers=[\n",
    "            ('num', numeric_transformer, cont_ftrs),\n",
    "            ('cat', categorical_transformer, cat_ftrs)])\n",
    "    pipe = make_pipeline(preprocessor,SVC())\n",
    "    # the parameter(s) we want to tune\n",
    "    param_grid = {'svc__C': [0.01, 0.1, 1, 10, 100],\n",
    "                  'svc__gamma': [0.01, 0.1, 1, 10, 100]}\n",
    "    # prepare gridsearch\n",
    "    grid = GridSearchCV(pipe, param_grid=param_grid,cv=kf, return_train_score = True,n_jobs=-1,verbose=10)\n",
    "    # do kfold CV on _other\n",
    "    grid.fit(X_other, y_other)\n",
    "    return grid, X_test, y_test"
   ]
  },
  {
   "cell_type": "markdown",
   "metadata": {
    "slideshow": {
     "slide_type": "subslide"
    }
   },
   "source": [
    "## Be careful, SVM is used on a relatively large dataset"
   ]
  },
  {
   "cell_type": "code",
   "execution_count": 3,
   "metadata": {},
   "outputs": [
    {
     "name": "stdout",
     "output_type": "stream",
     "text": [
      "Fitting 4 folds for each of 25 candidates, totalling 100 fits\n",
      "[CV 2/4; 2/25] START svc__C=0.01, svc__gamma=0.1................................\n",
      "[CV 2/4; 2/25] END svc__C=0.01, svc__gamma=0.1;, score=(train=0.822, test=0.814) total time= 1.5min\n",
      "[CV 1/4; 4/25] START svc__C=0.01, svc__gamma=10.................................\n",
      "[CV 1/4; 4/25] END svc__C=0.01, svc__gamma=10;, score=(train=0.759, test=0.759) total time= 4.4min\n",
      "[CV 3/4; 6/25] START svc__C=0.1, svc__gamma=0.01................................\n",
      "[CV 3/4; 6/25] END svc__C=0.1, svc__gamma=0.01;, score=(train=0.843, test=0.844) total time= 1.2min\n",
      "[CV 3/4; 7/25] START svc__C=0.1, svc__gamma=0.1.................................\n",
      "[CV 3/4; 7/25] END svc__C=0.1, svc__gamma=0.1;, score=(train=0.852, test=0.853) total time=  58.2s\n",
      "[CV 3/4; 8/25] START svc__C=0.1, svc__gamma=1...................................\n",
      "[CV 3/4; 8/25] END svc__C=0.1, svc__gamma=1;, score=(train=0.779, test=0.772) total time= 4.4min\n",
      "[CV 1/4; 10/25] START svc__C=0.1, svc__gamma=100................................\n",
      "[CV 1/4; 10/25] END svc__C=0.1, svc__gamma=100;, score=(train=0.759, test=0.759) total time= 5.2min\n",
      "[CV 1/4; 14/25] START svc__C=1, svc__gamma=10...................................\n",
      "[CV 1/4; 14/25] END svc__C=1, svc__gamma=10;, score=(train=0.980, test=0.765) total time= 6.0min\n",
      "[CV 1/4; 16/25] START svc__C=10, svc__gamma=0.01................................\n",
      "[CV 1/4; 16/25] END svc__C=10, svc__gamma=0.01;, score=(train=0.859, test=0.854) total time= 1.0min\n",
      "[CV 2/4; 17/25] START svc__C=10, svc__gamma=0.1.................................\n",
      "[CV 2/4; 17/25] END svc__C=10, svc__gamma=0.1;, score=(train=0.907, test=0.846) total time= 1.8min\n",
      "[CV 3/4; 18/25] START svc__C=10, svc__gamma=1...................................\n",
      "[CV 3/4; 18/25] END svc__C=10, svc__gamma=1;, score=(train=0.972, test=0.800) total time= 6.7min\n",
      "[CV 1/4; 20/25] START svc__C=10, svc__gamma=100.................................\n",
      "[CV 1/4; 20/25] END svc__C=10, svc__gamma=100;, score=(train=0.999, test=0.758) total time= 7.5min\n",
      "[CV 1/4; 24/25] START svc__C=100, svc__gamma=10.................................\n",
      "[CV 1/4; 24/25] END svc__C=100, svc__gamma=10;, score=(train=0.998, test=0.760) total time= 6.4min\n",
      "[CV 3/4; 2/25] START svc__C=0.01, svc__gamma=0.1................................\n",
      "[CV 3/4; 2/25] END svc__C=0.01, svc__gamma=0.1;, score=(train=0.817, test=0.818) total time= 1.5min\n",
      "[CV 2/4; 4/25] START svc__C=0.01, svc__gamma=10.................................\n",
      "[CV 2/4; 4/25] END svc__C=0.01, svc__gamma=10;, score=(train=0.759, test=0.759) total time= 4.3min\n",
      "[CV 2/4; 6/25] START svc__C=0.1, svc__gamma=0.01................................\n",
      "[CV 2/4; 6/25] END svc__C=0.1, svc__gamma=0.01;, score=(train=0.845, test=0.838) total time= 1.2min\n",
      "[CV 1/4; 7/25] START svc__C=0.1, svc__gamma=0.1.................................\n",
      "[CV 1/4; 7/25] END svc__C=0.1, svc__gamma=0.1;, score=(train=0.854, test=0.851) total time=  56.8s\n",
      "[CV 1/4; 8/25] START svc__C=0.1, svc__gamma=1...................................\n",
      "[CV 1/4; 8/25] END svc__C=0.1, svc__gamma=1;, score=(train=0.777, test=0.773) total time= 4.8min\n",
      "[CV 2/4; 10/25] START svc__C=0.1, svc__gamma=100................................\n",
      "[CV 2/4; 10/25] END svc__C=0.1, svc__gamma=100;, score=(train=0.759, test=0.759) total time= 5.1min\n",
      "[CV 2/4; 14/25] START svc__C=1, svc__gamma=10...................................\n",
      "[CV 2/4; 14/25] END svc__C=1, svc__gamma=10;, score=(train=0.980, test=0.766) total time= 6.0min\n",
      "[CV 3/4; 16/25] START svc__C=10, svc__gamma=0.01................................\n",
      "[CV 3/4; 16/25] END svc__C=10, svc__gamma=0.01;, score=(train=0.859, test=0.856) total time= 1.0min\n",
      "[CV 3/4; 17/25] START svc__C=10, svc__gamma=0.1.................................\n",
      "[CV 3/4; 17/25] END svc__C=10, svc__gamma=0.1;, score=(train=0.908, test=0.846) total time= 1.8min\n",
      "[CV 4/4; 18/25] START svc__C=10, svc__gamma=1...................................\n",
      "[CV 4/4; 18/25] END svc__C=10, svc__gamma=1;, score=(train=0.973, test=0.794) total time= 7.2min\n",
      "[CV 3/4; 20/25] START svc__C=10, svc__gamma=100.................................\n",
      "[CV 3/4; 20/25] END svc__C=10, svc__gamma=100;, score=(train=0.999, test=0.760) total time= 7.4min\n",
      "[CV 3/4; 24/25] START svc__C=100, svc__gamma=10.................................\n",
      "[CV 3/4; 24/25] END svc__C=100, svc__gamma=10;, score=(train=0.998, test=0.760) total time= 6.2min\n",
      "0.8545377764127764\n",
      "[CV 2/4; 1/25] START svc__C=0.01, svc__gamma=0.01...............................\n",
      "[CV 2/4; 1/25] END svc__C=0.01, svc__gamma=0.01;, score=(train=0.775, test=0.775) total time= 1.5min\n",
      "[CV 3/4; 4/25] START svc__C=0.01, svc__gamma=10.................................\n",
      "[CV 3/4; 4/25] END svc__C=0.01, svc__gamma=10;, score=(train=0.759, test=0.759) total time= 4.3min\n",
      "[CV 1/4; 6/25] START svc__C=0.1, svc__gamma=0.01................................\n",
      "[CV 1/4; 6/25] END svc__C=0.1, svc__gamma=0.01;, score=(train=0.845, test=0.844) total time= 1.2min\n",
      "[CV 2/4; 7/25] START svc__C=0.1, svc__gamma=0.1.................................\n",
      "[CV 2/4; 7/25] END svc__C=0.1, svc__gamma=0.1;, score=(train=0.854, test=0.844) total time=  56.2s\n",
      "[CV 2/4; 8/25] START svc__C=0.1, svc__gamma=1...................................\n",
      "[CV 2/4; 8/25] END svc__C=0.1, svc__gamma=1;, score=(train=0.778, test=0.775) total time= 4.8min\n",
      "[CV 4/4; 10/25] START svc__C=0.1, svc__gamma=100................................\n",
      "[CV 4/4; 10/25] END svc__C=0.1, svc__gamma=100;, score=(train=0.759, test=0.759) total time= 5.1min\n",
      "[CV 3/4; 14/25] START svc__C=1, svc__gamma=10...................................\n",
      "[CV 3/4; 14/25] END svc__C=1, svc__gamma=10;, score=(train=0.981, test=0.768) total time= 6.0min\n",
      "[CV 4/4; 16/25] START svc__C=10, svc__gamma=0.01................................\n",
      "[CV 4/4; 16/25] END svc__C=10, svc__gamma=0.01;, score=(train=0.858, test=0.854) total time= 1.1min\n",
      "[CV 4/4; 17/25] START svc__C=10, svc__gamma=0.1.................................\n",
      "[CV 4/4; 17/25] END svc__C=10, svc__gamma=0.1;, score=(train=0.906, test=0.849) total time= 1.5min\n",
      "[CV 2/4; 18/25] START svc__C=10, svc__gamma=1...................................\n",
      "[CV 2/4; 18/25] END svc__C=10, svc__gamma=1;, score=(train=0.971, test=0.803) total time= 7.2min\n",
      "[CV 2/4; 20/25] START svc__C=10, svc__gamma=100.................................\n",
      "[CV 2/4; 20/25] END svc__C=10, svc__gamma=100;, score=(train=0.999, test=0.760) total time= 7.4min\n",
      "[CV 2/4; 24/25] START svc__C=100, svc__gamma=10.................................\n",
      "[CV 2/4; 24/25] END svc__C=100, svc__gamma=10;, score=(train=0.998, test=0.768) total time= 6.4min\n",
      "[CV 1/4; 1/25] START svc__C=0.01, svc__gamma=0.01...............................\n",
      "[CV 1/4; 1/25] END svc__C=0.01, svc__gamma=0.01;, score=(train=0.769, test=0.771) total time= 1.5min\n",
      "[CV 4/4; 4/25] START svc__C=0.01, svc__gamma=10.................................\n",
      "[CV 4/4; 4/25] END svc__C=0.01, svc__gamma=10;, score=(train=0.759, test=0.759) total time= 4.3min\n",
      "[CV 4/4; 6/25] START svc__C=0.1, svc__gamma=0.01................................\n",
      "[CV 4/4; 6/25] END svc__C=0.1, svc__gamma=0.01;, score=(train=0.844, test=0.844) total time= 1.2min\n",
      "[CV 4/4; 7/25] START svc__C=0.1, svc__gamma=0.1.................................\n",
      "[CV 4/4; 7/25] END svc__C=0.1, svc__gamma=0.1;, score=(train=0.853, test=0.851) total time=  59.0s\n",
      "[CV 4/4; 8/25] START svc__C=0.1, svc__gamma=1...................................\n",
      "[CV 4/4; 8/25] END svc__C=0.1, svc__gamma=1;, score=(train=0.775, test=0.775) total time= 4.4min\n",
      "[CV 3/4; 10/25] START svc__C=0.1, svc__gamma=100................................\n",
      "[CV 3/4; 10/25] END svc__C=0.1, svc__gamma=100;, score=(train=0.759, test=0.759) total time= 5.3min\n",
      "[CV 4/4; 14/25] START svc__C=1, svc__gamma=10...................................\n",
      "[CV 4/4; 14/25] END svc__C=1, svc__gamma=10;, score=(train=0.981, test=0.766) total time= 5.9min\n",
      "[CV 2/4; 16/25] START svc__C=10, svc__gamma=0.01................................\n",
      "[CV 2/4; 16/25] END svc__C=10, svc__gamma=0.01;, score=(train=0.861, test=0.848) total time=  59.8s\n",
      "[CV 1/4; 17/25] START svc__C=10, svc__gamma=0.1.................................\n",
      "[CV 1/4; 17/25] END svc__C=10, svc__gamma=0.1;, score=(train=0.905, test=0.853) total time= 1.5min\n",
      "[CV 1/4; 18/25] START svc__C=10, svc__gamma=1...................................\n",
      "[CV 1/4; 18/25] END svc__C=10, svc__gamma=1;, score=(train=0.971, test=0.798) total time= 7.4min\n",
      "[CV 4/4; 20/25] START svc__C=10, svc__gamma=100.................................\n",
      "[CV 4/4; 20/25] END svc__C=10, svc__gamma=100;, score=(train=0.999, test=0.760) total time= 7.4min\n",
      "[CV 4/4; 24/25] START svc__C=100, svc__gamma=10.................................\n",
      "[CV 4/4; 24/25] END svc__C=100, svc__gamma=10;, score=(train=0.998, test=0.760) total time= 6.3min\n"
     ]
    },
    {
     "name": "stdout",
     "output_type": "stream",
     "text": [
      "0.8624289881774911\n",
      "{'svc__C': 1, 'svc__gamma': 0.1}\n"
     ]
    }
   ],
   "source": [
    "grid, X_test, y_test = ML_pipeline_kfold(X,y,42,4)\n",
    "print(grid.best_score_)\n",
    "print(grid.score(X_test,y_test))\n",
    "print(grid.best_params_)\n",
    "\n",
    "# save the output so I can use it later\n",
    "import pickle\n",
    "file = open('results/grid.save', 'wb')\n",
    "pickle.dump((grid,X_test,y_test),file)\n",
    "file.close()"
   ]
  },
  {
   "cell_type": "code",
   "execution_count": 5,
   "metadata": {
    "slideshow": {
     "slide_type": "slide"
    }
   },
   "outputs": [
    {
     "name": "stdout",
     "output_type": "stream",
     "text": [
      "test score =  0.8624289881774911\n",
      "test baseline =  0.7587901120835252\n",
      "shuffling age\n",
      "   shuffled test score: 0.851 +/- 0.002\n",
      "shuffling workclass\n",
      "   shuffled test score: 0.861 +/- 0.001\n",
      "shuffling fnlwgt\n",
      "   shuffled test score: 0.862 +/- 0.001\n",
      "shuffling education\n",
      "   shuffled test score: 0.86 +/- 0.001\n",
      "shuffling education-num\n",
      "   shuffled test score: 0.839 +/- 0.002\n",
      "shuffling marital-status\n",
      "   shuffled test score: 0.842 +/- 0.002\n",
      "shuffling occupation\n",
      "   shuffled test score: 0.844 +/- 0.002\n",
      "shuffling relationship\n",
      "   shuffled test score: 0.851 +/- 0.003\n",
      "shuffling race\n",
      "   shuffled test score: 0.862 +/- 0.0\n",
      "shuffling sex\n",
      "   shuffled test score: 0.862 +/- 0.0\n",
      "shuffling capital-gain\n",
      "   shuffled test score: 0.823 +/- 0.001\n",
      "shuffling capital-loss\n",
      "   shuffled test score: 0.855 +/- 0.001\n",
      "shuffling hours-per-week\n",
      "   shuffled test score: 0.855 +/- 0.002\n",
      "shuffling native-country\n",
      "   shuffled test score: 0.862 +/- 0.001\n"
     ]
    }
   ],
   "source": [
    "import pickle\n",
    "file = open('results/grid.save', 'rb')\n",
    "grid, X_test, y_test = pickle.load(file)\n",
    "file.close()\n",
    "\n",
    "np.random.seed(42)\n",
    "\n",
    "nr_runs = 10\n",
    "scores = np.zeros([len(ftr_names),nr_runs])\n",
    "\n",
    "test_score = grid.score(X_test,y_test)\n",
    "print('test score = ',test_score)\n",
    "print('test baseline = ',np.sum(y_test == 0)/len(y_test))\n",
    "# loop through the features\n",
    "for i in range(len(ftr_names)):\n",
    "    print('shuffling '+str(ftr_names[i]))\n",
    "    acc_scores = []\n",
    "    for j in range(nr_runs):\n",
    "        X_test_shuffled = X_test.copy()\n",
    "        X_test_shuffled[ftr_names[i]] = np.random.permutation(X_test[ftr_names[i]].values)\n",
    "        acc_scores.append(grid.score(X_test_shuffled,y_test))\n",
    "    print('   shuffled test score:',np.around(np.mean(acc_scores),3),'+/-',np.around(np.std(acc_scores),3))\n",
    "    scores[i] = acc_scores"
   ]
  },
  {
   "cell_type": "code",
   "execution_count": 6,
   "metadata": {
    "slideshow": {
     "slide_type": "subslide"
    }
   },
   "outputs": [
    {
     "data": {
      "image/png": "[encoded data removed]",
      "text/plain": [
       "<Figure size 576x432 with 1 Axes>"
      ]
     },
     "metadata": {
      "needs_background": "light"
     },
     "output_type": "display_data"
    }
   ],
   "source": [
    "sorted_indcs = np.argsort(np.mean(scores,axis=1))[::-1]\n",
    "plt.rcParams.update({'font.size': 14})\n",
    "plt.figure(figsize=(8,6))\n",
    "plt.boxplot(scores[sorted_indcs].T,labels=ftr_names[sorted_indcs],vert=False)\n",
    "plt.axvline(test_score,label='test score')\n",
    "plt.title(\"Permutation Importances (test set)\")\n",
    "plt.xlabel('score with perturbed feature')\n",
    "plt.legend()\n",
    "plt.tight_layout()\n",
    "plt.show()"
   ]
  },
  {
   "cell_type": "markdown",
   "metadata": {},
   "source": [
    "## Check out sklearn's permutation importance!\n",
    "\n",
    "https://scikit-learn.org/stable/modules/generated/sklearn.inspection.permutation_importance.html\n",
    "\n",
    "https://scikit-learn.org/stable/modules/permutation_importance.html#permutation-importance"
   ]
  },
  {
   "cell_type": "markdown",
   "metadata": {
    "slideshow": {
     "slide_type": "slide"
    }
   },
   "source": [
    "## Cons of permutation feature importance\n",
    "- strongly correlated features\n",
    "   - if one of the features is shuffled, the model can still use the other correlated feature\n",
    "   - both features appear to be less important but they might actually be important\n",
    "   - solution:\n",
    "      - check the correlation matrix plot\n",
    "      - remove all but one of the strongly correlated features\n",
    "- no feature interactions\n",
    "   - one feature might appear unimportant but combined with another feature could be important\n",
    "   - solution:\n",
    "      - permute two features to measure how important feature pairs are\n",
    "      - this can be computationally expensive"
   ]
  },
  {
   "cell_type": "markdown",
   "metadata": {},
   "source": [
    "## Quiz"
   ]
  },
  {
   "cell_type": "markdown",
   "metadata": {
    "slideshow": {
     "slide_type": "slide"
    }
   },
   "source": [
    "## <font color='LIGHTGRAY'>Global feature importance metrics</font>\n",
    "<font color='LIGHTGRAY'>By the end of this module, you will be able to</font>\n",
    " - <font color='LIGHTGRAY'>perform permutation feature importance calculation</font>\n",
    " - **study the coefficients of linear models**\n",
    " - <font color='LIGHTGRAY'>outlook to other metrics </font>"
   ]
  },
  {
   "cell_type": "markdown",
   "metadata": {
    "slideshow": {
     "slide_type": "slide"
    }
   },
   "source": [
    "## Coefficients of linear models\n",
    "- the coefficients of linear and logistic regression can be used as a measure of feature importance **ONLY IF** all features have a zero mean and the same standard deviation (usually 1)\n",
    "   - all features meaning that the one-hot encoded and ordinal features as well!\n",
    "- then the absolute value of the coefficients can be used to rank them"
   ]
  },
  {
   "cell_type": "markdown",
   "metadata": {
    "slideshow": {
     "slide_type": "subslide"
    }
   },
   "source": [
    "## Let's rewrite the kfold CV function a bit"
   ]
  },
  {
   "cell_type": "code",
   "execution_count": 11,
   "metadata": {},
   "outputs": [],
   "source": [
    "from sklearn.linear_model import LogisticRegression\n",
    "def ML_pipeline_kfold_LR1(X,y,random_state,n_folds):\n",
    "    # create a test set\n",
    "    X_other, X_test, y_other, y_test = train_test_split(X, y, test_size=0.2, random_state = random_state)\n",
    "    # splitter for _other\n",
    "    kf = StratifiedKFold(n_splits=n_folds,shuffle=True,random_state=random_state)\n",
    "    # create the pipeline: preprocessor + supervised ML method\n",
    "    cat_ftrs = ['workclass','education','marital-status','occupation','relationship','race','sex','native-country']\n",
    "    cont_ftrs = ['age','fnlwgt','education-num','capital-gain','capital-loss','hours-per-week']\n",
    "    # one-hot encoder\n",
    "    categorical_transformer = Pipeline(steps=[\n",
    "        ('onehot', OneHotEncoder(sparse=False,handle_unknown='ignore'))])\n",
    "    # standard scaler\n",
    "    numeric_transformer = Pipeline(steps=[\n",
    "        ('scaler', StandardScaler())])\n",
    "    preprocessor = ColumnTransformer(\n",
    "        transformers=[\n",
    "            ('num', numeric_transformer, cont_ftrs),\n",
    "            ('cat', categorical_transformer, cat_ftrs)])\n",
    "    pipe = make_pipeline(preprocessor,LogisticRegression(penalty='l2',solver='lbfgs',max_iter=10000000))\n",
    "    # the parameter(s) we want to tune\n",
    "    param_grid = {'logisticregression__C': [0.01, 0.1, 1, 10,100]}\n",
    "    # prepare gridsearch\n",
    "    grid = GridSearchCV(pipe, param_grid=param_grid,cv=kf, return_train_score = True,n_jobs=-1)\n",
    "    # do kfold CV on _other\n",
    "    grid.fit(X_other, y_other)\n",
    "    feature_names = cont_ftrs + \\\n",
    "                list(grid.best_estimator_[0].named_transformers_['cat'][0].get_feature_names(cat_ftrs))\n",
    "    return grid, np.array(feature_names), X_test, y_test"
   ]
  },
  {
   "cell_type": "code",
   "execution_count": 12,
   "metadata": {
    "slideshow": {
     "slide_type": "subslide"
    }
   },
   "outputs": [
    {
     "name": "stdout",
     "output_type": "stream",
     "text": [
      "test score: 0.8582834331337326\n"
     ]
    },
    {
     "data": {
      "image/png": "[encoded data removed]",
      "text/plain": [
       "<Figure size 432x288 with 1 Axes>"
      ]
     },
     "metadata": {
      "needs_background": "light"
     },
     "output_type": "display_data"
    }
   ],
   "source": [
    "grid, feature_names, X_test, y_test = ML_pipeline_kfold_LR1(X,y,42,4)\n",
    "print('test score:',grid.score(X_test,y_test))\n",
    "coefs = grid.best_estimator_[-1].coef_[0]\n",
    "sorted_indcs = np.argsort(np.abs(coefs))\n",
    "\n",
    "plt.rcParams.update({'font.size': 14})\n",
    "plt.barh(np.arange(10),coefs[sorted_indcs[-10:]])\n",
    "plt.yticks(np.arange(10),feature_names[sorted_indcs[-10:]])\n",
    "plt.xlabel('coefficient')\n",
    "plt.title('not all scaled')\n",
    "plt.tight_layout()\n",
    "plt.savefig('figures/LR_coefs_notscaled.png',dpi=300)\n",
    "plt.show()"
   ]
  },
  {
   "cell_type": "code",
   "execution_count": 13,
   "metadata": {
    "slideshow": {
     "slide_type": "subslide"
    }
   },
   "outputs": [],
   "source": [
    "from sklearn.linear_model import LogisticRegression\n",
    "def ML_pipeline_kfold_LR2(X,y,random_state,n_folds):\n",
    "    # create a test set\n",
    "    X_other, X_test, y_other, y_test = train_test_split(X, y, test_size=0.2, random_state = random_state)\n",
    "    # splitter for _other\n",
    "    kf = StratifiedKFold(n_splits=n_folds,shuffle=True,random_state=random_state)\n",
    "    # create the pipeline: preprocessor + supervised ML method\n",
    "    cat_ftrs = ['workclass','education','marital-status','occupation','relationship','race','sex','native-country']\n",
    "    cont_ftrs = ['age','fnlwgt','education-num','capital-gain','capital-loss','hours-per-week']\n",
    "    # one-hot encoder\n",
    "    categorical_transformer = Pipeline(steps=[\n",
    "        ('onehot', OneHotEncoder(sparse=False,handle_unknown='ignore'))])\n",
    "    # standard scaler\n",
    "    numeric_transformer = Pipeline(steps=[\n",
    "        ('scaler', StandardScaler())])\n",
    "    preprocessor = ColumnTransformer(\n",
    "        transformers=[\n",
    "            ('num', numeric_transformer, cont_ftrs),\n",
    "            ('cat', categorical_transformer, cat_ftrs)])\n",
    "    final_scaler = StandardScaler()\n",
    "    pipe = make_pipeline(preprocessor,final_scaler,LogisticRegression(penalty='l2',solver='lbfgs'))\n",
    "    # the parameter(s) we want to tune\n",
    "    param_grid = {'logisticregression__C': [0.01, 0.1, 1, 10,100]}\n",
    "    # prepare gridsearch\n",
    "    grid = GridSearchCV(pipe, param_grid=param_grid,cv=kf, return_train_score = True,n_jobs=-1)\n",
    "    # do kfold CV on _other\n",
    "    grid.fit(X_other, y_other)\n",
    "    feature_names = cont_ftrs + \\\n",
    "                list(grid.best_estimator_[0].named_transformers_['cat'][0].get_feature_names(cat_ftrs))\n",
    "    return grid, np.array(feature_names), X_test, y_test"
   ]
  },
  {
   "cell_type": "code",
   "execution_count": 14,
   "metadata": {
    "slideshow": {
     "slide_type": "subslide"
    }
   },
   "outputs": [
    {
     "name": "stdout",
     "output_type": "stream",
     "text": [
      "test score: 0.857976354982343\n"
     ]
    },
    {
     "data": {
      "image/png": "[encoded data removed]",
      "text/plain": [
       "<Figure size 432x288 with 1 Axes>"
      ]
     },
     "metadata": {
      "needs_background": "light"
     },
     "output_type": "display_data"
    }
   ],
   "source": [
    "grid, feature_names, X_test, y_test = ML_pipeline_kfold_LR2(X,y,42,4)\n",
    "print('test score:',grid.score(X_test,y_test))\n",
    "coefs = grid.best_estimator_[-1].coef_[0]\n",
    "sorted_indcs = np.argsort(np.abs(coefs))\n",
    "\n",
    "plt.rcParams.update({'font.size': 14})\n",
    "plt.barh(np.arange(10),coefs[sorted_indcs[-10:]])\n",
    "plt.yticks(np.arange(10),feature_names[sorted_indcs[-10:]])\n",
    "plt.xlabel('coefficient')\n",
    "plt.title('all scaled')\n",
    "plt.tight_layout()\n",
    "plt.savefig('figures/LR_coefs_scaled.png',dpi=300)\n",
    "plt.show()"
   ]
  },
  {
   "cell_type": "markdown",
   "metadata": {
    "slideshow": {
     "slide_type": "subslide"
    }
   },
   "source": [
    "<table><tr>\n",
    "<td> <img src=\"figures/LR_coefs_notscaled.png\" alt=\"Drawing\" style=\"width: 500px;\"/> </td>\n",
    "<td> <img src=\"figures/LR_coefs_scaled.png\" alt=\"Drawing\" style=\"width: 500px;\"/> </td>\n",
    "</tr></table>"
   ]
  },
  {
   "cell_type": "markdown",
   "metadata": {
    "slideshow": {
     "slide_type": "slide"
    }
   },
   "source": [
    "## <font color='LIGHTGRAY'>Global feature importance metrics</font>\n",
    "<font color='LIGHTGRAY'>By the end of this module, you will be able to</font>\n",
    " - <font color='LIGHTGRAY'>perform permutation feature importance calculation</font>\n",
    " - <font color='LIGHTGRAY'>study the coefficients of linear models</font>\n",
    " - **outlook to other metrics**\n"
   ]
  },
  {
   "cell_type": "markdown",
   "metadata": {
    "slideshow": {
     "slide_type": "slide"
    }
   },
   "source": [
    "- SVM:\n",
    "   - SVC.coef_ and SVR.coef_ can be used as a metric of feature importance if **all** features are standardized\n",
    "   - for linear SVMs only!\n",
    "- random forest:\n",
    "   - RandomForestRegressor.feature_importances_ and RandomForestClassification.feature_importances_\n",
    "   - gini importance or mean decrease impurity, see [here](https://scikit-learn.org/stable/auto_examples/ensemble/plot_forest_importances.html) and [here](https://stackoverflow.com/questions/15810339/how-are-feature-importances-in-randomforestclassifier-determined)\n",
    "- XGBoost:\n",
    "   - five different metrics are implemented, see [here](https://xgboost.readthedocs.io/en/latest/python/python_api.html#xgboost.Booster.get_score) and [here](https://towardsdatascience.com/be-careful-when-interpreting-your-features-importance-in-xgboost-6e16132588e7)"
   ]
  },
  {
   "cell_type": "markdown",
   "metadata": {},
   "source": [
    "## Quiz"
   ]
  },
  {
   "cell_type": "markdown",
   "metadata": {},
   "source": [
    "## Mudcard"
   ]
  },
  {
   "cell_type": "code",
   "execution_count": null,
   "metadata": {},
   "outputs": [],
   "source": []
  }
 ],
 "metadata": {
  "celltoolbar": "Slideshow",
  "kernelspec": {
   "display_name": "Python 3 (ipykernel)",
   "language": "python",
   "name": "python3"
  },
  "language_info": {
   "codemirror_mode": {
    "name": "ipython",
    "version": 3
   },
   "file_extension": ".py",
   "mimetype": "text/x-python",
   "name": "python",
   "nbconvert_exporter": "python",
   "pygments_lexer": "ipython3",
   "version": "3.9.7"
  }
 },
 "nbformat": 4,
 "nbformat_minor": 2
}
