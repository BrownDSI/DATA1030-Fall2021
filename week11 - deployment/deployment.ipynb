{
 "cells": [
  {
   "cell_type": "markdown",
   "metadata": {},
   "source": [
    "## Mud card answers\n",
    "- **I thought that this was one of the more complicated lectures. I was quite confused about the Shap equation and how that relates to the overarching analysis we've been doing (the ML pipelines steps).**\n",
    "    - it is used once the ML model is developed and it helps to make the model more interpretable\n",
    "- **S defined as a set of features excluding i, a vector of 0s and 1s (0 if a feature is missing). Is that means features in s will always =M-1? since we exclude i-th feature?**\n",
    "    - yes, there are M-1 components in S\n",
    "- **What's the Shap.TreeExplainer and explainer.value[0]?**\n",
    "    - we explain the class 0 predictions\n",
    "    - try to replace [0] with [1] and you'll see that the predicted probabilities will be inverted\n",
    "- **would we ever use LIME in the context of our project, or is SHAP always preferred?**\n",
    "    - SHAP is preferred\n",
    "    - I only showed LIME because you might come across it during your internship or your job but it is generally considered an obsolete method relative to SHAP\n",
    "- **i want to better understand the strategies for using a prediction function trained on all features that is applied to a subset of features. nothing high level, but what kind of kwargs can we consider in SHAP to do this? I expect that the robust strategy of training 2^p prediction functions is almost never practical to do, but I don't know what tradeoffs come with modifying a single prediction function to work on a subset domain**\n",
    "    - I worked on this topic with an intern two years ago\n",
    "    - there are a couple of options:\n",
    "        - as far as I know, SHAP replaces all feature values with the mean to effectively exclude the feature, this is easy to do for any dataset size\n",
    "        - for small datasets, it is feasable to train all possible models\n",
    "        - for linear models, you can set the coefficients of the unused subset of features to 0 effectively removing them from the model\n",
    "        - for a decision tree, you can remove a branch if it uses a feature that's not part of the subset\n",
    "    - there might be other options we didn't think of\n",
    "    - interpretability is one of my favorite ML topics\n",
    "    - let me know if you'd like to do some research in this area\n",
    "    "
   ]
  },
  {
   "cell_type": "markdown",
   "metadata": {
    "slideshow": {
     "slide_type": "slide"
    }
   },
   "source": [
    "## Deployment and continuous monitoring\n",
    "By the end of this lecture, you will be able to\n",
    "- Describe A/B testing and when it's not the right approach to test\n",
    "- Describe common challenges with deployment\n",
    "- Develop strategies to monitor a deployed ML model\n"
   ]
  },
  {
   "cell_type": "markdown",
   "metadata": {
    "slideshow": {
     "slide_type": "slide"
    }
   },
   "source": [
    "- you put together the ML pipeline (splitting, preprocessing, parameter tuning)\n",
    "- tried a couple of supervised ML algorithms\n",
    "- you have a test score with uncertainty\n",
    "- feature importance metrics\n",
    "- you understand and trust your model because of the explanations\n",
    "- your model's test score seems better than whatever decision-making/prediction process is in place right now\n",
    "## ... now what?\n"
   ]
  },
  {
   "cell_type": "markdown",
   "metadata": {
    "slideshow": {
     "slide_type": "slide"
    }
   },
   "source": [
    "## It is time to deploy the model!\n",
    "- up to now you played in a sandbox\n",
    "   - you worked with historical data\n",
    "   - no actual decisions were made based on the work you did so far\n",
    "- once your model is deployed, it will replace whatever decision making process was in place until now\n",
    "   - this is done carefully and gradually"
   ]
  },
  {
   "cell_type": "markdown",
   "metadata": {
    "slideshow": {
     "slide_type": "slide"
    }
   },
   "source": [
    "## Typical scenario\n",
    "- you get more recent data and you need to apply your model to it (pre-deployment)\n",
    "- A/B testing (your model is partially deployed)\n",
    "   - evidence-based comparison of the ML approach and the previous decision making process\n",
    "- if your model is better than the previous decision making process, your model will replace it (full deployment)"
   ]
  },
  {
   "cell_type": "markdown",
   "metadata": {
    "slideshow": {
     "slide_type": "slide"
    }
   },
   "source": [
    "<font color='LIGHTGRAY'>By the end of this lecture, you will be able to</font>\n",
    "- **Describe A/B testing and when it's not the right approach to test**\n",
    "- <font color='LIGHTGRAY'>Describe common challenges with deployment</font>\n",
    "- <font color='LIGHTGRAY'>Develop strategies to monitor a deployed ML model</font>\n"
   ]
  },
  {
   "cell_type": "markdown",
   "metadata": {},
   "source": [
    "## A/B testing, the concept\n",
    "- sample A (control group) - labels generated by the current decision-making process (e.g., fraud and not fraud labels predicted based on current decision making process)\n",
    "- sample B (treatment group) - labels generated by your new ML model\n",
    "- calculate the evaluation metric of both groups\n",
    "- for example:\n",
    "    - accuracy metric is used\n",
    "    - sample A's accuracy is 90% using 100 points\n",
    "    - sample B's accuracy is 91% using 100 points\n",
    "    - is the ML model used to generte sample B's labels significantly better than sample A's decision-making process?\n",
    "    - what if the labels were calculated for 1000, 1e4, 1e5 points?\n",
    "    - what if sample B's accuracy is 92%, 95%, 99%?\n",
    "\n",
    "- more statistics than ML at this point\n",
    "    - how to select points to each sample?\n",
    "    - how do I compare the labels of the two samples? what statistical test should I use? \n",
    "    - what critical p value should I choose?\n",
    "    - how many points should I collect per sample? what's a good sample size?"
   ]
  },
  {
   "cell_type": "markdown",
   "metadata": {},
   "source": [
    "# How to select points for the samples?\n",
    "- random selection\n",
    "    - almost never used!\n",
    "    - if the improvement from control to treatment is small, the evaluation metric might differ mostly because the properties of the points are different in the two samples\n",
    "- segmentation\n",
    "    - what groups/segments exist in the population?\n",
    "    - maybe gender, racial, socio-economic, age, etc\n",
    "    - determine the distributions of the segments in your overall population\n",
    "    - make sure that each segment is equally well represented in the two samples you create"
   ]
  },
  {
   "cell_type": "markdown",
   "metadata": {},
   "source": [
    "# What  statistical test should I use?\n",
    "- this is beyond what I can cover in one module\n",
    "- look for stats courses offered at Brown or online courses on A/B testing\n",
    "- check out this [page](https://www.inferentialthinking.com/chapters/12/1/AB_Testing.html)\n",
    "- here is a nice [flowchart](http://www.statsflowchart.co.uk/)\n",
    "\n",
    "# What critical p value should I choose?\n",
    "- p value: it is the probability that the treatment group's property of interest (the value of the evaluation metric in our case) is similar to the control group's.\n",
    "- null hypothesis: the measured property of the two groups is similar\n",
    "- large p value: the null hypothesis is correct\n",
    "- small p value: the null hypothesis can be rejeted with some certainity\n",
    "- most often used critical p values are 0.01 and 0.05."
   ]
  },
  {
   "cell_type": "markdown",
   "metadata": {},
   "source": [
    "# Estimate the sample size\n",
    "- how many points should be in the control and treatment groups?\n",
    "- answer the following questions:\n",
    "    - what is the value of the evaluation metric in the control group?\n",
    "    - what is the test score of your new ML model?\n",
    "        - that's the expected performance of your model on new data points\n",
    "    - the difference between the two scores is what you want to measure\n",
    "    - what test is the best to use?\n",
    "    - what's your crtitical p value?\n",
    "- once you know these answers, you can code a simple model to estimate the sample size"
   ]
  },
  {
   "cell_type": "code",
   "execution_count": 1,
   "metadata": {
    "slideshow": {
     "slide_type": "subslide"
    }
   },
   "outputs": [],
   "source": [
    "import numpy as np\n",
    "import scipy.stats as stats\n",
    "np.random.seed(0)\n",
    "n_samples = [400, 800, 1200, 1600, 2000] # sample size in a segment\n",
    "A_acc = 0.8 # accuracy in the control group\n",
    "B_acc = 0.85 # expected accuracy in the treatment group\n",
    "\n",
    "# let's loop through n, simulate data, apply t test to simulated data\n",
    "median_p = np.zeros(len(n_samples))\n",
    "upper_p = np.zeros(len(n_samples))\n",
    "lower_p = np.zeros(len(n_samples))\n",
    "for n in range(len(n_samples)):\n",
    "    p_vals = []\n",
    "    for i in range(100): # generate 100 random samples\n",
    "        A_results = np.random.choice([0, 1], size=(n_samples[n]), p=[1-A_acc, A_acc])\n",
    "        B_results = np.random.choice([0, 1], size=(n_samples[n]), p=[1-B_acc, B_acc])\n",
    "        oddsratio, pvalue = stats.fisher_exact([[sum(A_results==0), sum(A_results==1)], [sum(B_results==0), sum(B_results==1)]])\n",
    "        p_vals.append(pvalue)\n",
    "        \n",
    "    median_p[n] = np.median(p_vals)\n",
    "    upper_p[n] = np.percentile(p_vals,84) # you can also do np.max(p_vals)\n",
    "    lower_p[n] = np.percentile(p_vals,16) # you can also do np.min(p_vals)\n"
   ]
  },
  {
   "cell_type": "code",
   "execution_count": 2,
   "metadata": {
    "slideshow": {
     "slide_type": "subslide"
    }
   },
   "outputs": [
    {
     "data": {
      "image/png": "[encoded data removed]",
      "text/plain": [
       "<Figure size 432x288 with 1 Axes>"
      ]
     },
     "metadata": {
      "needs_background": "light"
     },
     "output_type": "display_data"
    }
   ],
   "source": [
    "import matplotlib.pyplot as plt\n",
    "import matplotlib\n",
    "matplotlib.rcParams.update({'font.size': 16})\n",
    "plt.errorbar(n_samples,median_p,yerr=np.array([median_p-lower_p,upper_p-median_p]),capsize=5,fmt='o')\n",
    "plt.hlines(0.01,n_samples[0],n_samples[-1],color='r',label='critical p value')\n",
    "plt.xlabel('nr of samples')\n",
    "plt.ylabel('p value')\n",
    "plt.semilogy()\n",
    "plt.legend()\n",
    "plt.show()"
   ]
  },
  {
   "cell_type": "markdown",
   "metadata": {},
   "source": [
    "## Quiz"
   ]
  },
  {
   "cell_type": "markdown",
   "metadata": {
    "slideshow": {
     "slide_type": "slide"
    }
   },
   "source": [
    "## A/B testing - example\n",
    "**My project with Advancement**\n",
    "- goal: predict how much alumni will donate in the upcoming fiscal year\n",
    "   - the predictions are used as target ask amounts in phone/mail/email communication\n",
    "- previous decision making process:\n",
    "   - a group of experts meet regularly for a couple of weeks to discuss what a good target ask amount is\n",
    "   - very labor-intensive and also somewhat subjective\n",
    "- a regression model was developed by my colleague and myself with R2 scores in the range of 0.7-0.8\n",
    "- it was time to test it"
   ]
  },
  {
   "cell_type": "markdown",
   "metadata": {
    "slideshow": {
     "slide_type": "subslide"
    }
   },
   "source": [
    "## A/B testing - example\n",
    "- Advancement created two groups:\n",
    "   - group A (control) - the previous decision making process was used to generate target ask amounts\n",
    "   - group B (treatment) - the regression model's prediction were used\n",
    "- alumni were randomly assigned to the two groups\n",
    "   - we checked that key demographic groups (race/gender/ethnicity) were more or less evenly distributed in the two groups\n",
    "- the only difference between the two groups were the decision making process used, everything else was the same.\n",
    "- we waited a year :D"
   ]
  },
  {
   "cell_type": "markdown",
   "metadata": {
    "slideshow": {
     "slide_type": "subslide"
    }
   },
   "source": [
    "## A/B testing - example\n",
    "- we compared the donations given by the two groups using statistical tests\n",
    "   - we used a two sided t test to compare the donation distributions in groups A and B\n",
    "- unfortunately we found that my model does not increase the amount the alumni donate \n",
    "- the model was still adopted by Advancement because it saves a ton of work for them\n",
    "   - several people's work time freed up so they can do better, more important things now\n",
    "- this year, my model completely replaced Advancement's previous decision making process"
   ]
  },
  {
   "cell_type": "markdown",
   "metadata": {
    "slideshow": {
     "slide_type": "slide"
    }
   },
   "source": [
    "## A/B testing - when it is not the right approach\n",
    "- testing is not always ethical\n",
    "   - [facebook scandal](https://techcrunch.com/2014/06/29/ethics-in-a-data-driven-world/)\n",
    "   - you need approval from Ethics Board or IRB\n",
    "- testing is approved but you want to minimize variations in user experience \n",
    "   - you shouldn't ask different users to pay different amounts for the same service\n",
    "   - they will start to complain :)\n",
    "   - multi-armed bandit is a good alternative to minimize costs like this (read about it [here](https://en.wikipedia.org/wiki/Multi-armed_bandit) and [here](https://towardsdatascience.com/when-and-when-not-to-a-b-test-c901f3ad96d9))"
   ]
  },
  {
   "cell_type": "markdown",
   "metadata": {
    "slideshow": {
     "slide_type": "slide"
    }
   },
   "source": [
    "<font color='LIGHTGRAY'>By the end of this lecture, you will be able to</font>\n",
    "- <font color='LIGHTGRAY'>Describe A/B testing and when it's not the right approach to test</font>\n",
    "- **Describe common challenges with deployment**\n",
    "- <font color='LIGHTGRAY'>Develop strategies to monitor a deployed ML model</font>\n"
   ]
  },
  {
   "cell_type": "markdown",
   "metadata": {
    "slideshow": {
     "slide_type": "slide"
    }
   },
   "source": [
    "## Once the model is tested and deployed, you are not done\n",
    "- incoming data properties can change\n",
    "   - feature distributions could slowly move away from what you had in training\n",
    "   - category ratios could change\n",
    "   - new classes could appear\n",
    "   - outliers in regression could become the new norm"
   ]
  },
  {
   "cell_type": "markdown",
   "metadata": {
    "slideshow": {
     "slide_type": "slide"
    }
   },
   "source": [
    "<font color='LIGHTGRAY'>By the end of this lecture, you will be able to</font>\n",
    "- <font color='LIGHTGRAY'>Describe A/B testing and when it's not the right approach to test</font>\n",
    "- <font color='LIGHTGRAY'>Describe common challenges with deployment</font>\n",
    "- **Develop strategies to monitor a deployed ML model**"
   ]
  },
  {
   "cell_type": "markdown",
   "metadata": {
    "slideshow": {
     "slide_type": "slide"
    }
   },
   "source": [
    "## What to do?\n",
    "- incoming data needs to be monitored\n",
    "- keep an eye on feature statistics and the target variable properties\n",
    "- if you see the data changing, retrain your model"
   ]
  }
 ],
 "metadata": {
  "celltoolbar": "Slideshow",
  "kernelspec": {
   "display_name": "Python 3 (ipykernel)",
   "language": "python",
   "name": "python3"
  },
  "language_info": {
   "codemirror_mode": {
    "name": "ipython",
    "version": 3
   },
   "file_extension": ".py",
   "mimetype": "text/x-python",
   "name": "python",
   "nbconvert_exporter": "python",
   "pygments_lexer": "ipython3",
   "version": "3.9.7"
  }
 },
 "nbformat": 4,
 "nbformat_minor": 2
}
