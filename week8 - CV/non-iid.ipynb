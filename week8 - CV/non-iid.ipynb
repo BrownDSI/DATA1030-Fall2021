{
 "cells": [
  {
   "cell_type": "markdown",
   "metadata": {},
   "source": [
    "## Mud card answers\n",
    "- **Since we already did splitting and preprocessing in step 2 and 3, then use the training set to choose ML models. When we fine tune the hyperparemeters of the models, does it mean we need to split and preprocess the whole data sets once again or just used the prepared sets from step 2 and 3.**\n",
    "    - yes, you just use the prepared sets\n",
    "- **\"Can the SVR deal with the target variable with string? Because the randomforest model works properly with the y_train which is the house price but the SVR shows a wrong code that could not convert string to float: ' <=50K'**\n",
    "    - SVR stands for Support Vector *Regression* so it won't work with the adult dataset's income target variable\n",
    "    - use SVC - the Support Vector *Classifier*\n",
    "- **\"Why maximum feature is between 0 and 1 in this dataset? Is that proportion? 'max_features': [0.5,0.75,1.0] # linearly spaced between 0.5 and 1\"**\n",
    "    - yes, read through te manual\n",
    "    - if max_features is a float, it is the proportion of features to use and it needs to be between 0 and 1\n",
    "    - if max_features is an int, it's the number of features to use\n",
    "- **Is the Kfold in GridSearchCV the same as the kfolds we implement to get different training, validation, and test sets? It looks like it. So then we would have to build another for-loop for each iteration of our datas kfolds?**\n",
    "    - I'm not sure what implementation you are referring to, please come to the office hours\n",
    "- **do we never process y?**\n",
    "    - no, usually it's not necessary unless the regression variable is weirdly formatted\n",
    "- **How is the train test split introduced into the GridSearchCV**\n",
    "    - that's exactly what the last quiz of the previous lecture was about so check the solution on canvas\n",
    "- **Why don't need to tune the kernel of SVC**\n",
    "    - you could tune it\n",
    "    - I focused mainly in the rbf kernel in class\n",
    "- **I've seen Bayesian Optimization used for hyperparameter tuning of neural networks. Is this overkill for the techniques described in class given that there are much fewer parameters to tune?**\n",
    "- **Do you have any books/resources that you recommend for more sophisticated grid search methods?**\n",
    "    - sklearn doesn't support it but you can write code to try it\n",
    "    - usually it's not worth the effort\n",
    "    - a better hyperparameter tuning algorithm can only give a modest improvement on model performance\n",
    "    - if you want to boost your model, generate new features\n",
    "- **In most situation dealing with large (even with only 1000 images), GridSearchCV would cause out of RAM issues. At that time is hand-selecting and recording results the only option? Or there are still some automated ways to do those.**\n",
    "    - I'm not sure why GridSearchCV would run out of RAM with ~1000 images\n",
    "    - any reasonable laptop nowadays should be able to handle that\n",
    "    - maybe the problem is something else?"
   ]
  },
  {
   "cell_type": "markdown",
   "metadata": {
    "slideshow": {
     "slide_type": "slide"
    }
   },
   "source": [
    "## When the iid assumption breaks down\n",
    "- What is the intended use of the model? What is it supposed to do/predict?\n",
    "- What data do you have available at that time?\n",
    "- Your cross validation must simulate the intended use of the model!"
   ]
  },
  {
   "cell_type": "markdown",
   "metadata": {
    "slideshow": {
     "slide_type": "slide"
    }
   },
   "source": [
    "## An example: seizure project\n",
    "- you can read the publication [here](https://ieeexplore.ieee.org/document/8857552)\n",
    "- classification problem:\n",
    "   - epileptic seizures vs. non-epileptic psychogenic seizures\n",
    "- data from empatica wrist sensor\n",
    "   - heart rate, skin temperature, EDA, blood volume pressure, acceleration\n",
    "- data collection:\n",
    "   - patients come to the hospital for a few days\n",
    "   - eeg and video recording to determine seizure type\n",
    "   - wrist sensor data is collected\n",
    "- question:\n",
    "   - Can we use the wrist sensor data to differentiate the two seizure types on new patients?"
   ]
  },
  {
   "cell_type": "code",
   "execution_count": 3,
   "metadata": {
    "slideshow": {
     "slide_type": "subslide"
    }
   },
   "outputs": [
    {
     "name": "stdout",
     "output_type": "stream",
     "text": [
      "(276, 48)\n"
     ]
    }
   ],
   "source": [
    "import pandas as pd\n",
    "import numpy as np\n",
    "\n",
    "df = pd.read_csv('data/seizure_data.csv')\n",
    "print(df.shape)"
   ]
  },
  {
   "cell_type": "code",
   "execution_count": 2,
   "metadata": {
    "slideshow": {
     "slide_type": "subslide"
    }
   },
   "outputs": [
    {
     "name": "stdout",
     "output_type": "stream",
     "text": [
      "balance: 0.6884057971014492\n"
     ]
    }
   ],
   "source": [
    "y = df['label']\n",
    "patient_ID = df['patient ID']\n",
    "seizure_ID = df['seizure_ID']\n",
    "X = df.drop(columns=['patient ID','seizure_ID','label'])\n",
    "classes, counts = np.unique(y,return_counts=True)\n",
    "print('balance:',np.max(counts/len(y)))"
   ]
  },
  {
   "cell_type": "code",
   "execution_count": 3,
   "metadata": {
    "slideshow": {
     "slide_type": "subslide"
    }
   },
   "outputs": [],
   "source": [
    "from sklearn.svm import SVC\n",
    "from sklearn.metrics import accuracy_score\n",
    "from sklearn.model_selection import StratifiedKFold\n",
    "from sklearn.model_selection import train_test_split \n",
    "from sklearn.preprocessing import StandardScaler\n",
    "from sklearn.pipeline import make_pipeline\n",
    "from sklearn.model_selection import KFold\n",
    "from sklearn.model_selection import GridSearchCV\n",
    "from sklearn.metrics import make_scorer\n",
    "\n",
    "def ML_pipeline_kfold_GridSearchCV(X,y,random_state,n_folds):\n",
    "    # create a test set\n",
    "    X_other, X_test, y_other, y_test = train_test_split(X, y, test_size=0.2, random_state = random_state,stratify=y)\n",
    "    # splitter for _other\n",
    "    kf = StratifiedKFold(n_splits=n_folds,shuffle=True,random_state=random_state)\n",
    "    # create the pipeline: preprocessor + supervised ML method\n",
    "    scaler = StandardScaler()\n",
    "    pipe = make_pipeline(scaler,SVC())\n",
    "    # the parameter(s) we want to tune\n",
    "    param_grid = {'svc__C': np.logspace(-3,4,num=8),'svc__gamma': np.logspace(-3,4,num=8)}\n",
    "    # prepare gridsearch\n",
    "    grid = GridSearchCV(pipe, param_grid=param_grid,scoring = make_scorer(accuracy_score),\n",
    "                        cv=kf, return_train_score = True)\n",
    "    # do kfold CV on _other\n",
    "    grid.fit(X_other, y_other)\n",
    "    return grid, grid.score(X_test, y_test)"
   ]
  },
  {
   "cell_type": "code",
   "execution_count": 4,
   "metadata": {
    "slideshow": {
     "slide_type": "subslide"
    }
   },
   "outputs": [
    {
     "name": "stdout",
     "output_type": "stream",
     "text": [
      "{'svc__C': 1.0, 'svc__gamma': 0.01}\n",
      "best CV score: 0.9227272727272726\n",
      "test score: 0.9285714285714286\n",
      "{'svc__C': 10.0, 'svc__gamma': 0.01}\n",
      "best CV score: 0.9363636363636363\n",
      "test score: 0.9285714285714286\n",
      "{'svc__C': 10.0, 'svc__gamma': 0.01}\n",
      "best CV score: 0.9045454545454547\n",
      "test score: 0.9464285714285714\n",
      "{'svc__C': 10.0, 'svc__gamma': 0.01}\n",
      "best CV score: 0.9\n",
      "test score: 0.9285714285714286\n",
      "{'svc__C': 10.0, 'svc__gamma': 0.01}\n",
      "best CV score: 0.9363636363636363\n",
      "test score: 0.9107142857142857\n",
      "test accuracy: 0.93 +/- 0.01\n"
     ]
    }
   ],
   "source": [
    "test_scores = []\n",
    "for i in range(5):\n",
    "    grid, test_score = ML_pipeline_kfold_GridSearchCV(X,y,i*42,5)\n",
    "    print(grid.best_params_)\n",
    "    print('best CV score:',grid.best_score_)\n",
    "    print('test score:',test_score)\n",
    "    test_scores.append(test_score)\n",
    "print('test accuracy:',np.around(np.mean(test_scores),2),'+/-',np.around(np.std(test_scores),2))"
   ]
  },
  {
   "cell_type": "markdown",
   "metadata": {
    "slideshow": {
     "slide_type": "subslide"
    }
   },
   "source": [
    "## This is wrong! A very bad case of data leakage!\n",
    "- the textbook case of information leakage!\n",
    "- if we just do KFold CV blindly, the points from the same patient end up in different sets\n",
    "   - when you deploy the model and apply it to data from new patients, that patient's data will be seen for the first time\n",
    "- the ML pipeline needs to mimic the intended use of the model!\n",
    "   - we want to split the points based on the patient ID!\n",
    "   - we want all points from the same patient to be in either train/CV/test"
   ]
  },
  {
   "cell_type": "markdown",
   "metadata": {
    "slideshow": {
     "slide_type": "subslide"
    }
   },
   "source": [
    "## Group-based split: GroupKFold\n",
    "<center><img src=\"figures/groupkfold.png\" width=\"600\"></center>\n"
   ]
  },
  {
   "cell_type": "code",
   "execution_count": 5,
   "metadata": {
    "slideshow": {
     "slide_type": "subslide"
    }
   },
   "outputs": [],
   "source": [
    "from sklearn.model_selection import GroupKFold\n",
    "from sklearn.model_selection import GroupShuffleSplit\n",
    "def ML_pipeline_groups_GridSearchCV(X,y,groups,random_state,n_folds):\n",
    "    # create a test set based on groups\n",
    "    splitter = GroupShuffleSplit(n_splits=1,test_size=0.2,random_state=random_state)\n",
    "    for i_other,i_test in splitter.split(X, y, groups):\n",
    "        X_other, y_other, groups_other = X.iloc[i_other], y.iloc[i_other], groups.iloc[i_other]\n",
    "        X_test, y_test, groups_test = X.iloc[i_test], y.iloc[i_test], groups.iloc[i_test]\n",
    "    # check the split\n",
    "#     print(pd.unique(groups))\n",
    "#     print(pd.unique(groups_other))\n",
    "#     print(pd.unique(groups_test))\n",
    "    # splitter for _other\n",
    "    kf = GroupKFold(n_splits=n_folds)\n",
    "    # create the pipeline: preprocessor + supervised ML method\n",
    "    scaler = StandardScaler()\n",
    "    pipe = make_pipeline(scaler,SVC())\n",
    "    # the parameter(s) we want to tune\n",
    "    param_grid = {'svc__C': np.logspace(-3,4,num=8),'svc__gamma': np.logspace(-3,4,num=8)}\n",
    "    # prepare gridsearch\n",
    "    grid = GridSearchCV(pipe, param_grid=param_grid,scoring = make_scorer(accuracy_score),\n",
    "                        cv=kf, return_train_score = True)\n",
    "    # do kfold CV on _other\n",
    "    grid.fit(X_other, y_other, groups=groups_other)\n",
    "    return grid, grid.score(X_test, y_test)"
   ]
  },
  {
   "cell_type": "code",
   "execution_count": 6,
   "metadata": {
    "slideshow": {
     "slide_type": "subslide"
    }
   },
   "outputs": [
    {
     "name": "stdout",
     "output_type": "stream",
     "text": [
      "{'svc__C': 10.0, 'svc__gamma': 0.001}\n",
      "best CV score: 0.7609139784946237\n",
      "test score: 0.6410256410256411\n",
      "{'svc__C': 0.1, 'svc__gamma': 0.01}\n",
      "best CV score: 0.6522727272727272\n",
      "test score: 0.2711864406779661\n",
      "{'svc__C': 10.0, 'svc__gamma': 0.001}\n",
      "best CV score: 0.5720073891625616\n",
      "test score: 0.9390243902439024\n",
      "{'svc__C': 10.0, 'svc__gamma': 0.001}\n",
      "best CV score: 0.7061742424242425\n",
      "test score: 0.43243243243243246\n",
      "{'svc__C': 10000.0, 'svc__gamma': 0.001}\n",
      "best CV score: 0.6082407407407406\n",
      "test score: 0.8901098901098901\n",
      "test accuracy: 0.63 +/- 0.26\n"
     ]
    }
   ],
   "source": [
    "test_scores = []\n",
    "for i in range(5):\n",
    "    grid, test_score = ML_pipeline_groups_GridSearchCV(X,y,patient_ID,i*42,5)\n",
    "    print(grid.best_params_)\n",
    "    print('best CV score:',grid.best_score_)\n",
    "    print('test score:',test_score)\n",
    "    test_scores.append(test_score)\n",
    "print('test accuracy:',np.around(np.mean(test_scores),2),'+/-',np.around(np.std(test_scores),2))"
   ]
  },
  {
   "cell_type": "markdown",
   "metadata": {
    "slideshow": {
     "slide_type": "subslide"
    }
   },
   "source": [
    "## The takeaway\n",
    "- an incorrect cross validation pipeline gives misleading results\n",
    "   - usually the model appears to be pretty accurate\n",
    "   - but the performance is poor when the model is deployed\n",
    "- this can be avoided by a careful cross validation pipeline\n",
    "   - think about how your model will be used\n",
    "   - mimic that future use in CV"
   ]
  },
  {
   "cell_type": "markdown",
   "metadata": {
    "slideshow": {
     "slide_type": "subslide"
    }
   },
   "source": [
    "## Data leakage in time series data is similar!\n",
    "- do NOT use information in CV which will not be available once your model is deployed\n",
    "   - don't use future information!\n",
    "   \n",
    "<center><img src=\"figures/timeseriessplit.png\" width=\"600\"></center>\n"
   ]
  },
  {
   "cell_type": "markdown",
   "metadata": {},
   "source": [
    "## Time series data\n",
    "- stock price, crypto price, covid-19 positive case counts, etc\n",
    "- simple data structure:\n",
    "\n",
    "| time        \t| observation \t| \n",
    "|-------------\t|:------------:\t|\n",
    "| t_0           | y_0          \t|\n",
    "| t_1           | y_1          \t|\n",
    "| t_2           | y_2          \t|\n",
    "| ...           | ...          \t|\n",
    "| t_i           | y_i          \t|\n",
    "| ...           | ...          \t|\n",
    "| t_n-1         | y_n-1         |\n",
    "| t_n           | y_n          \t|\n",
    "\n",
    "- assumption:\n",
    "    - the difference between two time points (dt) is constant \n",
    "    - e.g., 1 minute, 5 minutes, 1 hour, or 1 day"
   ]
  },
  {
   "cell_type": "markdown",
   "metadata": {},
   "source": [
    "## Autocorrelation\n",
    "- the correlation of the time series data with a delayed copy of itself\n",
    "- delay on the x axis, correlation coefficient on the y axis\n",
    "- if delay = 0, the correlation coefficient is 1\n",
    "- if the delay is short, autocorrelation can be high\n",
    "- autocorrelation tends to subside for longer delays\n",
    "- let's check an example"
   ]
  },
  {
   "cell_type": "code",
   "execution_count": 5,
   "metadata": {},
   "outputs": [
    {
     "name": "stdout",
     "output_type": "stream",
     "text": [
      "(3650, 2)\n",
      "         Date  Temp\n",
      "0  1981-01-01  20.7\n",
      "1  1981-01-02  17.9\n",
      "2  1981-01-03  18.8\n",
      "3  1981-01-04  14.6\n",
      "4  1981-01-05  15.8\n"
     ]
    },
    {
     "data": {
      "image/png": "[encoded data removed]",
      "text/plain": [
       "<Figure size 432x288 with 1 Axes>"
      ]
     },
     "metadata": {
      "needs_background": "light"
     },
     "output_type": "display_data"
    }
   ],
   "source": [
    "import pandas as pd\n",
    "import matplotlib.pyplot as plt\n",
    "import matplotlib\n",
    "import numpy as np\n",
    "matplotlib.rcParams.update({'font.size': 16})\n",
    "\n",
    "df = pd.read_csv('data/daily-min-temperatures.csv')\n",
    "print(df.shape)\n",
    "print(df.head())\n",
    "\n",
    "plt.plot(df['Temp'])\n",
    "plt.xticks(np.arange(len(df['Date']))[::365],df['Date'].iloc[::365],rotation=90)\n",
    "plt.xlabel('date')\n",
    "plt.ylabel('temperature [C]')\n",
    "plt.show()\n"
   ]
  },
  {
   "cell_type": "code",
   "execution_count": 12,
   "metadata": {},
   "outputs": [
    {
     "name": "stdout",
     "output_type": "stream",
     "text": [
      "[0.99972603 0.77446147 0.63057611 0.58570362 0.5780733  0.57758888\n",
      " 0.57542059 0.57472479 0.56812066 0.56190417]\n"
     ]
    },
    {
     "name": "stderr",
     "output_type": "stream",
     "text": [
      "/Users/azsom/opt/anaconda3/envs/data1030/lib/python3.9/site-packages/numpy/lib/function_base.py:2683: RuntimeWarning: Degrees of freedom <= 0 for slice\n",
      "  c = cov(x, y, rowvar, dtype=dtype)\n",
      "/Users/azsom/opt/anaconda3/envs/data1030/lib/python3.9/site-packages/numpy/lib/function_base.py:2542: RuntimeWarning: divide by zero encountered in true_divide\n",
      "  c *= np.true_divide(1, fact)\n"
     ]
    },
    {
     "data": {
      "image/png": "[encoded data removed]",
      "text/plain": [
       "<Figure size 432x288 with 1 Axes>"
      ]
     },
     "metadata": {
      "needs_background": "light"
     },
     "output_type": "display_data"
    },
    {
     "data": {
      "image/png": "[encoded data removed]",
      "text/plain": [
       "<Figure size 432x288 with 1 Axes>"
      ]
     },
     "metadata": {
      "needs_background": "light"
     },
     "output_type": "display_data"
    }
   ],
   "source": [
    "# let's create an autocorrelation plot\n",
    "\n",
    "lags = np.arange(3650)\n",
    "corr_coefs = np.zeros(3650)\n",
    "\n",
    "for i in np.arange(len(lags)):\n",
    "    x = df['Temp'].iloc[i:-1].reset_index(drop=True) # recent observations\n",
    "    y = df['Temp'].iloc[:-i-1].reset_index(drop=True) # lag-shifted observations\n",
    "    # the shapes must be the same\n",
    "    if x.shape != y.shape:\n",
    "        raise ValueError('shape mismatch!')\n",
    "    # Pearson correlation multiplied by the fraction of time series used\n",
    "    corr_coefs[i] = x.corr(y,method='pearson')*x.shape[0]/df['Temp'].shape[0]\n",
    "print(corr_coefs[:10])\n",
    "\n",
    "plt.plot(lags,corr_coefs)\n",
    "plt.ylim([-1,1])\n",
    "plt.xlabel('lag [days]')\n",
    "plt.ylabel('Pearson correlation coefficient')\n",
    "plt.title('my figure')\n",
    "plt.show()\n",
    "\n",
    "# a one-liner\n",
    "pd.plotting.autocorrelation_plot(df['Temp'])\n",
    "plt.title(\"pandas's autocorrelation plot\")\n",
    "plt.show()"
   ]
  },
  {
   "cell_type": "markdown",
   "metadata": {},
   "source": [
    "# Autoregression: create an iid feature matrix using lag features\n",
    "- goal:\n",
    "    - predict what y will be dt in the future\n",
    "- the target variable and lag features:\n",
    "\n",
    "| feature_1     | feature_2 \t| ... | feature_m-1 | feature m | <font color='red'>target variable</font>|\n",
    "|-------------\t|:------------:\t|:---:|:----------:\t|:--------:\t|:------------:\t |\n",
    "|     y_0       |    y_1      \t| ... | y_m-1   \t| y_m\t    | <font color='red'>y_m+1</font>|\n",
    "|     y_1       |    y_2      \t| ... | y_m   \t    | y_m+1\t    | <font color='red'>y_m+2</font>|\n",
    "|     ...       |    ...      \t| ... | ...     \t| ...\t    | <font color='red'>...</font>  |\n",
    "|     y_i-m     |    y_i-m+1   \t| ... | y_i-2   \t| y_i-1\t    | <font color='red'>y_i</font>\t|\n",
    "|     ...       |    ...      \t| ... | ...     \t| ...\t    | <font color='red'>...</font>\t|\n",
    "|     y_n-m     |    y_n-m+1   \t| ... | y_n-2   \t| y_n-1\t    | <font color='red'>y_n</font>\t|\n",
    "\n",
    "- the features are shifted with respect to the original observation with a dt lag\n",
    "- this feature matrix is now iid and can be split with any of the methods we covered in the previous lecture"
   ]
  },
  {
   "cell_type": "code",
   "execution_count": 10,
   "metadata": {},
   "outputs": [
    {
     "name": "stdout",
     "output_type": "stream",
     "text": [
      "      lag 4 days  lag 3 days  lag 2 day\n",
      "3640        17.2        14.7       15.4\n",
      "3641        14.7        15.4       13.1\n",
      "3642        15.4        13.1       13.2\n",
      "3643        13.1        13.2       13.9\n",
      "3644        13.2        13.9       10.0\n",
      "3645        13.9        10.0       12.9\n",
      "3646        10.0        12.9       14.6\n",
      "3647        12.9        14.6       14.0\n",
      "3648        14.6        14.0       13.6\n",
      "3649        14.0        13.6       13.5\n",
      "3640    13.2\n",
      "3641    13.9\n",
      "3642    10.0\n",
      "3643    12.9\n",
      "3644    14.6\n",
      "3645    14.0\n",
      "3646    13.6\n",
      "3647    13.5\n",
      "3648    15.7\n",
      "3649    13.0\n",
      "Name: Temp, dtype: float64\n"
     ]
    }
   ],
   "source": [
    "y = df['Temp']\n",
    "X = pd.concat([df['Temp'].shift(3),df['Temp'].shift(2),df['Temp'].shift(1)],axis=1)\n",
    "X.columns = ['lag 3 days','lag 2 days','lag 1 day']\n",
    "print(X.tail(10))\n",
    "print(y.tail(10))"
   ]
  },
  {
   "cell_type": "markdown",
   "metadata": {},
   "source": [
    "## Things to consider\n",
    "- lag between the target variable and feature m can be more if you want to predict the observation multiple dt's in the future\n",
    "- you might also have multiple time series to work with (prices of multiple stock, covid cases in multiple countries, etc)\n",
    "    - all of those need to be shifted by the same lag relative to the target variable\n",
    "- due to autocorrelation, the features closer in time to the target variable tend to be more predictive\n",
    "- how many features should you use?\n",
    "    - treat the number of features as a hyperparameter"
   ]
  },
  {
   "cell_type": "markdown",
   "metadata": {},
   "source": [
    "## Special scenarios\n",
    "- what if dt is not consant and/or each time series have its own non-uniform time?\n",
    "    - for example you try to predict crypto prices based on stock prices\n",
    "        - stock prices are available once per hour\n",
    "        - crypto prices are only available when a trade happens (i.e., some tokens are traded rarely)\n",
    "- interpolate to a uniform time grid\n",
    "    - try linear and non-linear interpolation techniques to figure out what works best\n",
    "    - check out [scipy](https://docs.scipy.org/doc/scipy/reference/tutorial/interpolate.html) for more info\n",
    "    - cubic spline interpolation usually works well\n",
    "- you might have a mix of time series and non-time series features\n",
    "    - cvs customer purchase history\n",
    "        - you know what a customer bought and when - time series part\n",
    "        - you have info on the customer (gender, race, address, etc) - non-time series part"
   ]
  },
  {
   "cell_type": "markdown",
   "metadata": {},
   "source": [
    "## Mud card"
   ]
  },
  {
   "cell_type": "code",
   "execution_count": null,
   "metadata": {},
   "outputs": [],
   "source": []
  }
 ],
 "metadata": {
  "celltoolbar": "Slideshow",
  "kernelspec": {
   "display_name": "Python 3 (ipykernel)",
   "language": "python",
   "name": "python3"
  },
  "language_info": {
   "codemirror_mode": {
    "name": "ipython",
    "version": 3
   },
   "file_extension": ".py",
   "mimetype": "text/x-python",
   "name": "python",
   "nbconvert_exporter": "python",
   "pygments_lexer": "ipython3",
   "version": "3.9.7"
  }
 },
 "nbformat": 4,
 "nbformat_minor": 2
}
