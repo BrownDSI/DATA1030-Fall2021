{
 "cells": [
  {
   "cell_type": "markdown",
   "metadata": {},
   "source": [
    "## Mud card answers\n",
    "- **can we use the train_MSE + val_MSE to find the best tradeoff between bias and variance?**\n",
    "    - no, generally just the validation scores are used\n",
    "- **Why can we conclude that big thetas lead to overfitting?**\n",
    "    - for linear models like linear and logisti regression, large thetas mean some features need to be multiplied by coefficients on the order of 1e10 or larger which is not usually a reasonable thing to do\n",
    "- **I am a little bit confused bt the Bias vs Variance definition. Why larger \\alpha create high bias?**\n",
    "- **can you explain why there is underfitting in right upper corner of the alpha and MSE curve.? also about overfitting**\n",
    "    - if alpha is high, it means that the model coefficients will be small\n",
    "    - In the extremel case, this means that you'll fit a constant line to your data which is underfitting or high bias\n",
    "    - the MSE will be high on both the training and validation sets\n",
    "- **I think for Ridge, the derivative of parabola when x = 0 should be 0?**\n",
    "    - yes\n",
    "- **I'm wondering if there is Python function to calculate the l1 or l2 norm of theta directly.**\n",
    "    - maybe in numpy, please check\n",
    "    - but you extract the coefficients from sklearn and write your own function to calculate the norms\n",
    "- **I am not sure what is the use of plot between alpha and thetas, how can we implement this kind of plot.**\n",
    "    - the plot is implemented in last lecture's notebook :)\n",
    "    - it's just a way to check how the coefficients change as a function of the regularization parameter\n",
    "- **How do you discern when to use lasso vs ridge regression?**\n",
    "    - you should try both\n",
    "    - if you want to do feature selection, use lasso\n",
    "- **Ridge regularization is also for feature selection.... no? So if the features selected from LASSO and Ridge are different then do we choose features from LASSO? And Ridge for the secondary explanation later on? Is it correct..**\n",
    "    - the ridge coefficients are never 0 so it doesn't exclude features naturally\n",
    "    - but if all features in your dataset has a 0 mean and 1 standard deviation, you can use the coefficients to rank features\n",
    "    - more on this in PS7\n",
    "- **what methods can we use to visualize bias and variance in tandem?**\n",
    "    - the ones I use in class :)\n",
    "    - plot the train and validation scores as a function of your hyperparameter\n",
    "- **I feel like there are smarter ways to find the minimizing alpha, such as increasing the resolution of our alpha range near local minimums. Why do we not do this? Does there come a point where getting a more precise alpha has negligible effect? Can we quantify this limiting precision as a function of the number of data points, number of features and other correlation metrics?**\n",
    "    - sure, you can do all that but usually it's not worth the effort and a gradient descent approach for hyperparameter search can be finicky and often unreliable\n",
    "    - generally speaking the performance of your model can improve slightly if you improve your parameter search\n",
    "    - the best way to improve you model performance is to generate new and informative features\n",
    "    - sklearn has a function called GridSearchCV which we will cover soon to automatize the parameter search for you so you don't need to write for loops"
   ]
  },
  {
   "cell_type": "markdown",
   "metadata": {
    "slideshow": {
     "slide_type": "slide"
    }
   },
   "source": [
    "## Supervised ML algorithms\n",
    "By the end of this module, you will be able to\n",
    "- Summarize how decision trees, random forests, and support vector machines work\n",
    "- Describe how the predictions of these techniques behave in classification and regression\n",
    "- Describe which hyper-parameters should be tuned"
   ]
  },
  {
   "cell_type": "markdown",
   "metadata": {
    "slideshow": {
     "slide_type": "slide"
    }
   },
   "source": [
    "## Which ML algorithm to try on your dataset?\n",
    "\n",
    "- there is no algo that performs well under all conditions!\n",
    "- you need to try a few to find the one that performs best\n",
    "- but you might be able to exclude some algos in advance\n",
    "   - large dataset (>1e6 points)\n",
    "   - more features than  points\n",
    "- other than predictive power, what else is important for you?\n",
    "   - how the model behaves with respect to outliers?\n",
    "   - does the prediction varies smoothly with the feature values?\n",
    "   - can the model capture non-linear dependencies?\n",
    "   - is the model easy to interpret for a human?"
   ]
  },
  {
   "cell_type": "markdown",
   "metadata": {
    "slideshow": {
     "slide_type": "slide"
    }
   },
   "source": [
    "### Goal for this module: fill out the table:"
   ]
  },
  {
   "cell_type": "markdown",
   "metadata": {
    "slideshow": {
     "slide_type": "-"
    }
   },
   "source": [
    "| ML algo                      \t| suitable for large datasets? \t| behaviour wrt outliers \t| non-linear? \t|  params to tune  \t|smooth predictions| easy to interpret?|\n",
    "|------------------------------\t|:----------------------------:\t|:----------------------:\t|:-----------:\t|:----------------:\t|:----------------:\t|:----------------:\t|\n",
    "| linear regression            \t|              yes             \t|<font color='red'>tbd</font>|      no     \t| l1 and/or l2 reg \t| yes | yes|\n",
    "| logistic regression          \t|              yes             \t|<font color='red'>tbd</font>|      no     \t| l1 and/or l2 reg \t| yes | yes|\n",
    "| random forest regression     \t|              tbd             \t|           tbd          \t|     tbd     \t|        tbd       \t| tbd | tbd|\n",
    "| random forest classification \t|              tbd             \t|           tbd          \t|     tbd     \t|        tbd       \t| tbd | tbd|\n",
    "| SVM rbf regression               \t|              tbd             \t|           tbd          \t|     tbd     \t|        tbd       \t| tbd | tbd|\n",
    "| SVM rbf classification           \t|              tbd             \t|           tbd          \t|     tbd     \t|        tbd       \t| tbd | tbd|\n"
   ]
  },
  {
   "cell_type": "markdown",
   "metadata": {
    "slideshow": {
     "slide_type": "subslide"
    }
   },
   "source": [
    "## Linear regression"
   ]
  },
  {
   "cell_type": "code",
   "execution_count": 1,
   "metadata": {
    "slideshow": {
     "slide_type": "-"
    }
   },
   "outputs": [],
   "source": [
    "import numpy as np\n",
    "from sklearn.linear_model import LinearRegression\n",
    "np.random.seed(10)\n",
    "def true_fun(X):\n",
    "    return np.cos(1.5 * np.pi * X)\n",
    "\n",
    "n_samples = 30\n",
    "\n",
    "X = np.random.rand(n_samples)\n",
    "y = true_fun(X) + np.random.randn(n_samples) * 0.1\n",
    "\n",
    "X_new = np.linspace(-0.5, 1.5, 2000)\n",
    "\n",
    "reg = LinearRegression()\n",
    "reg.fit(X[:, np.newaxis],y)\n",
    "y_new = reg.predict(X_new[:, np.newaxis])\n"
   ]
  },
  {
   "cell_type": "code",
   "execution_count": 2,
   "metadata": {
    "slideshow": {
     "slide_type": "subslide"
    }
   },
   "outputs": [
    {
     "data": {
      "image/png": "[encoded data removed]",
      "text/plain": [
       "<Figure size 432x288 with 1 Axes>"
      ]
     },
     "metadata": {
      "needs_background": "light"
     },
     "output_type": "display_data"
    }
   ],
   "source": [
    "import matplotlib.pyplot as plt\n",
    "import matplotlib \n",
    "plt.scatter(X,y,label='training data')\n",
    "plt.plot(X_new,y_new,'r',label='prediction')\n",
    "plt.plot(np.linspace(0, 1, 100),true_fun(np.linspace(0, 1, 100)),label='true function')\n",
    "plt.xlabel('x')\n",
    "plt.ylabel('y')\n",
    "plt.title('linear regression')\n",
    "plt.legend()\n",
    "plt.tight_layout()\n",
    "plt.savefig('figures/lin_reg.png',dpi=300)\n",
    "plt.show()"
   ]
  },
  {
   "cell_type": "markdown",
   "metadata": {
    "slideshow": {
     "slide_type": "subslide"
    }
   },
   "source": [
    "## Logistic regression"
   ]
  },
  {
   "cell_type": "code",
   "execution_count": 3,
   "metadata": {
    "slideshow": {
     "slide_type": "-"
    }
   },
   "outputs": [
    {
     "data": {
      "text/plain": [
       "LogisticRegression()"
      ]
     },
     "execution_count": 3,
     "metadata": {},
     "output_type": "execute_result"
    }
   ],
   "source": [
    "from sklearn.datasets import make_moons\n",
    "import numpy as np\n",
    "from sklearn.linear_model import LogisticRegression\n",
    "# create the data\n",
    "X,y = make_moons(noise=0.2, random_state=1,n_samples=200)\n",
    "# set the hyperparameters\n",
    "clf = LogisticRegression()\n",
    "# fit the model\n",
    "clf.fit(X,y)\n",
    "# predict new data\n",
    "#y_new = clf.predict(X_new)\n",
    "# predict probabilities\n",
    "#y_new = clf.predict_proba(X_new)"
   ]
  },
  {
   "cell_type": "code",
   "execution_count": 4,
   "metadata": {
    "slideshow": {
     "slide_type": "skip"
    }
   },
   "outputs": [
    {
     "data": {
      "image/png": "[encoded data removed]",
      "text/plain": [
       "<Figure size 432x288 with 2 Axes>"
      ]
     },
     "metadata": {
      "needs_background": "light"
     },
     "output_type": "display_data"
    }
   ],
   "source": [
    "from matplotlib.colors import ListedColormap\n",
    "from sklearn.preprocessing import StandardScaler\n",
    "matplotlib.rcParams.update({'font.size': 14})\n",
    "\n",
    "h = .02  # step size in the mesh\n",
    "\n",
    "x_min, x_max = X[:, 0].min() - .5, X[:, 0].max() + .5\n",
    "y_min, y_max = X[:, 1].min() - .5, X[:, 1].max() + .5\n",
    "xx, yy = np.meshgrid(np.arange(x_min, x_max, h),\n",
    "                     np.arange(y_min, y_max, h))\n",
    "\n",
    "cm_bright = ListedColormap(['#FF0000', '#0000FF'])\n",
    "cm = plt.cm.RdBu\n",
    "\n",
    "Z = clf.predict_proba(np.c_[xx.ravel(), yy.ravel()])[:, 1]\n",
    "# Put the result into a color plot\n",
    "Z = Z.reshape(xx.shape)\n",
    "plt.contourf(xx, yy, Z, cmap=cm, alpha=.8,vmin=0,vmax=1,levels=np.arange(0,1.05,0.05))\n",
    "plt.colorbar(label='predicted prob')\n",
    "plt.contour(xx, yy, Z, alpha=.8,vmin=0,vmax=1,levels=[0.5],colors=['k'],linewidths=3)\n",
    "plt.scatter(X[:, 0], X[:, 1], c=y,cmap=cm_bright)\n",
    "plt.xlabel('feature_1')\n",
    "plt.ylabel('feature_2')\n",
    "plt.title('logistic regression')\n",
    "plt.tight_layout()\n",
    "plt.savefig('figures/logistic_reg.png',dpi=300)\n",
    "plt.show()"
   ]
  },
  {
   "cell_type": "markdown",
   "metadata": {
    "slideshow": {
     "slide_type": "subslide"
    }
   },
   "source": [
    "<center><img src=\"figures/logistic_reg.png\" width=\"700\"></center>"
   ]
  },
  {
   "cell_type": "markdown",
   "metadata": {
    "slideshow": {
     "slide_type": "subslide"
    }
   },
   "source": [
    "| ML algo                      \t| suitable for large datasets? \t| behaviour wrt outliers \t| non-linear? \t|  params to tune  \t|smooth predictions| easy to interpret?|\n",
    "|------------------------------\t|:----------------------------:\t|:----------------------:\t|:-----------:\t|:----------------:\t|:----------------:\t|:----------------:\t|\n",
    "| linear regression            \t|              yes             \t|<font color='red'>linear extrapolation</font>|      no     \t| l1 and/or l2 reg \t| yes | yes|\n",
    "| logistic regression          \t|              yes             \t|<font color='red'>scales with distance from the decision boundary </font>|      no     \t| l1 and/or l2 reg \t| yes | yes|\n",
    "| random forest regression     \t|              tbd             \t|           tbd          \t|     tbd     \t|        tbd       \t| tbd | tbd|\n",
    "| random forest classification \t|              tbd             \t|           tbd          \t|     tbd     \t|        tbd       \t| tbd | tbd|\n",
    "| SVM rbf regression               \t|              tbd             \t|           tbd          \t|     tbd     \t|        tbd       \t| tbd | tbd|\n",
    "| SVM rbf classification           \t|              tbd             \t|           tbd          \t|     tbd     \t|        tbd       \t| tbd | tbd|\n",
    "\n"
   ]
  },
  {
   "cell_type": "markdown",
   "metadata": {},
   "source": [
    "### Quiz 1\n",
    "\n",
    "Calculate the predicted probabilities on X for the logistic regression model and determine what critical probability gives the best f1 score. Round to the second significant digit!\n"
   ]
  },
  {
   "cell_type": "code",
   "execution_count": null,
   "metadata": {},
   "outputs": [],
   "source": []
  },
  {
   "cell_type": "markdown",
   "metadata": {
    "slideshow": {
     "slide_type": "slide"
    }
   },
   "source": [
    "## <center>Decision trees and random forests</center>\n",
    "\n",
    "- Decision tree: the data is split according to certain features\n",
    "- Here is an example tree fitted to data:\n",
    "\n",
    "<center><img src = 'figures/Decision-Trees-modified-1.png' width=\"500\"></center>"
   ]
  },
  {
   "cell_type": "markdown",
   "metadata": {
    "slideshow": {
     "slide_type": "subslide"
    }
   },
   "source": [
    "<center><img src = 'figures/Decision-Trees-modified-1.png' width=\"500\"></center>\n",
    "\n",
    "- Trees have nodes and leaves.\n",
    "- The critical values and features in the nodes are determined automatically by minimizing a cost function."
   ]
  },
  {
   "cell_type": "markdown",
   "metadata": {
    "slideshow": {
     "slide_type": "subslide"
    }
   },
   "source": [
    "- Random forest: ensemble of random decision trees\n",
    "- Each tree sees a random subset of the training data, that's why the forest is random.\n",
    "\n",
    "<center><img src=\"figures/tree.png\" width=\"450\"></center>\n",
    "\n"
   ]
  },
  {
   "cell_type": "markdown",
   "metadata": {
    "slideshow": {
     "slide_type": "slide"
    }
   },
   "source": [
    "### Quiz 2\n",
    "- Use the dataset below and create a decision tree with max_depth = 2 to predict the target variable! What is your tree's prediction for each person?\n",
    "- Remember, your tree does not need predict everyone perfectly.\n",
    "- It just needs to get as many people as possible right."
   ]
  },
  {
   "cell_type": "markdown",
   "metadata": {
    "slideshow": {
     "slide_type": "subslide"
    }
   },
   "source": [
    "| X|age|gender (M=0, F=1)|is student?|is parent?|uses computer for work?|nr. of hours on c.|<font color='red'>Like computer games?</font>|\n",
    "|-|:-:|:-:|:-:|:-:|:-:|:-:|:-:|\n",
    "|__person 1__| 5|0|1|0|0|0.0|__<font color='red'>1</font>__|\n",
    "|__person 2__|48|1|0|1|0|1.8|__<font color='red'>1</font>__|\n",
    "|__person 3__|62|0|0|1|0|0.2|__<font color='red'>0</font>__|\n",
    "|__person 4__|10|1|1|0|0|2.4|__<font color='red'>1</font>__|\n",
    "|__person 5__|23|1|1|0|1|4.2|__<font color='red'>0</font>__|\n",
    "|__person 6__|36|0|0|0|1|3.1|__<font color='red'>1</font>__|\n",
    "|__person 7__|12|0|1|0|0|3.1|__<font color='red'>1</font>__|\n",
    "|__person 8__|85|0|0|0|1|1.0|__<font color='red'>0</font>__|\n",
    "|__person 9__|33|1|1|1|0|1.5|__<font color='red'>0</font>__|\n",
    "|__person 10__|56|0|0|0|1|0.1|__<font color='red'>1</font>__|"
   ]
  },
  {
   "cell_type": "markdown",
   "metadata": {},
   "source": [
    "## Mud card"
   ]
  },
  {
   "cell_type": "code",
   "execution_count": null,
   "metadata": {},
   "outputs": [],
   "source": []
  }
 ],
 "metadata": {
  "celltoolbar": "Slideshow",
  "kernelspec": {
   "display_name": "Python 3 (ipykernel)",
   "language": "python",
   "name": "python3"
  },
  "language_info": {
   "codemirror_mode": {
    "name": "ipython",
    "version": 3
   },
   "file_extension": ".py",
   "mimetype": "text/x-python",
   "name": "python",
   "nbconvert_exporter": "python",
   "pygments_lexer": "ipython3",
   "version": "3.9.7"
  }
 },
 "nbformat": 4,
 "nbformat_minor": 2
}
