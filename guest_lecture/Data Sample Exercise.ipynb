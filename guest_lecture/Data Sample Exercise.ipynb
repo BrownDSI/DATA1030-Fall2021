{
 "cells": [
  {
   "cell_type": "code",
   "execution_count": null,
   "metadata": {},
   "outputs": [],
   "source": [
    "import numpy as np\n",
    "import pandas as pd\n",
    "import matplotlib.pyplot as plt\n",
    "#import seaborn as sns\n",
    "import datetime"
   ]
  },
  {
   "cell_type": "markdown",
   "metadata": {},
   "source": [
    "This link contains a small sample of ticket data for 4 anonymized restaurants: <br>\n",
    "https://drive.google.com/drive/folders/1fAy61HbEazj4HCNdxiyhPZEtLWmVerL5\n",
    "\n",
    "The data is organized as follows: <br>\n",
    "- 1 CSV file per restaurant <br>\n",
    "- Each CSV file has all ticket items for that restaurant in 2018. Ticket items are menu items\n",
    "(food, drink, etc.) sold during a transaction. Each ticket may have many ticket items.<br>\n",
    "- Each row of data is a ticket item that was sold (e.g. Cheeseburger sold on 3/25/18 for\n",
    "$x)."
   ]
  },
  {
   "cell_type": "markdown",
   "metadata": {},
   "source": [
    "Dataset details:"
   ]
  },
  {
   "cell_type": "markdown",
   "metadata": {},
   "source": [
    "Each  file is a  view of each ticket and its items, with the following fields:<br>\n",
    "restaurant_id - unique ID of the restaurant<br>\n",
    "ticket_id - unique ID of the ticket<br>\n",
    "ticket_open_time - time ticket was created<br>\n",
    "ticket_close_time - time ticket was closed  <br>\n",
    "ticket_guest_count - number of guests on the ticket<br>\n",
    "business_date - date of the transaction <br>\n",
    "ticket_tax - cents tax<br>\n",
    "ticket_tip - cents tip<br>\n",
    "ticket_net_sales - sales not including tax, tip, discounts, and voids<br>\n",
    "item_category - top-level item category<br>\n",
    "item_subcategory - bottom-level item category<br>\n",
    "item_name - item name <br>\n",
    "item_id - unique item ID<br>\n",
    "item_sales - total cents sold for this ticket item (quantity * price)<br>\n",
    "item_quantity - number of ticket items on ticket<br>\n",
    "unit_price - individual ticket item price<br>"
   ]
  },
  {
   "cell_type": "markdown",
   "metadata": {},
   "source": [
    "## TASKS"
   ]
  },
  {
   "cell_type": "markdown",
   "metadata": {},
   "source": [
    "1)  Import the data into one panda dataframe, with column names as below: <br>\n",
    " and rename restaurant ids to 1,2,3 and 4"
   ]
  },
  {
   "cell_type": "code",
   "execution_count": null,
   "metadata": {},
   "outputs": [],
   "source": [
    "col_names = ['restaurant_id', 'ticket_id', 'ticket_open_time', 'ticket_close_time', 'ticket_guest_count', 'business_date', 'ticket_tax', 'ticket_tip', 'ticket_net_sales', 'item_category', 'item_subcategory', 'item_name','item_id', 'item_sales','item_quantity', 'unit_price']"
   ]
  },
  {
   "cell_type": "code",
   "execution_count": null,
   "metadata": {},
   "outputs": [],
   "source": []
  },
  {
   "cell_type": "code",
   "execution_count": null,
   "metadata": {},
   "outputs": [],
   "source": []
  },
  {
   "cell_type": "markdown",
   "metadata": {},
   "source": [
    "2) Visualize daily total net sales of the restaurant #3. Which date does it reach its maximum?"
   ]
  },
  {
   "cell_type": "code",
   "execution_count": null,
   "metadata": {},
   "outputs": [],
   "source": []
  },
  {
   "cell_type": "code",
   "execution_count": null,
   "metadata": {},
   "outputs": [],
   "source": []
  },
  {
   "cell_type": "markdown",
   "metadata": {},
   "source": [
    "3) Plot a heatmap of the average total net sales of restaurant #3 per day of the week and month"
   ]
  },
  {
   "cell_type": "code",
   "execution_count": null,
   "metadata": {},
   "outputs": [],
   "source": []
  },
  {
   "cell_type": "code",
   "execution_count": null,
   "metadata": {},
   "outputs": [],
   "source": []
  },
  {
   "cell_type": "markdown",
   "metadata": {},
   "source": [
    "4) Compute and visualize total net food sales in 2018 and total net drink sales in 2018 for each restaurant"
   ]
  },
  {
   "cell_type": "code",
   "execution_count": null,
   "metadata": {},
   "outputs": [],
   "source": []
  }
 ],
 "metadata": {
  "kernelspec": {
   "display_name": "Python 3 (ipykernel)",
   "language": "python",
   "name": "python3"
  },
  "language_info": {
   "codemirror_mode": {
    "name": "ipython",
    "version": 3
   },
   "file_extension": ".py",
   "mimetype": "text/x-python",
   "name": "python",
   "nbconvert_exporter": "python",
   "pygments_lexer": "ipython3",
   "version": "3.9.7"
  }
 },
 "nbformat": 4,
 "nbformat_minor": 4
}
