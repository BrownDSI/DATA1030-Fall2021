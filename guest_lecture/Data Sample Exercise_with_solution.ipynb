{
 "cells": [
  {
   "cell_type": "code",
   "execution_count": 4,
   "metadata": {},
   "outputs": [],
   "source": [
    "import numpy as np\n",
    "import pandas as pd\n",
    "import matplotlib.pyplot as plt\n",
    "import datetime"
   ]
  },
  {
   "cell_type": "markdown",
   "metadata": {},
   "source": [
    "This link contains a small sample of ticket data for 4 anonymized restaurants: <br>\n",
    "https://drive.google.com/drive/u/0/folders/1ZC7mhi5D8zklu2lAdCeazKVYnHkn9FqF\n",
    "\n",
    "The data is organized as follows: <br>\n",
    "- 1 CSV file per restaurant <br>\n",
    "- Each CSV file has all ticket items for that restaurant in 2018. Ticket items are menu items\n",
    "(food, drink, etc.) sold during a transaction. Each ticket may have many ticket items.<br>\n",
    "- Each row of data is a ticket item that was sold (e.g. Cheeseburger sold on 3/25/18 for\n",
    "$x)."
   ]
  },
  {
   "cell_type": "markdown",
   "metadata": {},
   "source": [
    "Dataset details:"
   ]
  },
  {
   "cell_type": "markdown",
   "metadata": {},
   "source": [
    "Each  file is a  view of each ticket and its items, with the following fields:<br>\n",
    "restaurant_id - unique ID of the restaurant<br>\n",
    "ticket_id - unique ID of the ticket<br>\n",
    "ticket_open_time - time ticket was created<br>\n",
    "ticket_close_time - time ticket was closed  <br>\n",
    "ticket_guest_count - number of guests on the ticket<br>\n",
    "business_date - date of the transaction <br>\n",
    "ticket_tax - cents tax<br>\n",
    "ticket_tip - cents tip<br>\n",
    "ticket_net_sales - sales not including tax, tip, discounts, and voids<br>\n",
    "item_category - top-level item category<br>\n",
    "item_subcategory - bottom-level item category<br>\n",
    "item_name - item name <br>\n",
    "item_id - unique item ID<br>\n",
    "item_sales - total cents sold for this ticket item (quantity * price)<br>\n",
    "item_quantity - number of ticket items on ticket<br>\n",
    "unit_price - individual ticket item price<br>"
   ]
  },
  {
   "cell_type": "markdown",
   "metadata": {},
   "source": [
    "## TASKS"
   ]
  },
  {
   "cell_type": "markdown",
   "metadata": {},
   "source": [
    "1)  Import the data into one panda dataframe, with column names as below: <br>\n",
    " and rename restaurant ids to 1,2,3 and 4 "
   ]
  },
  {
   "cell_type": "code",
   "execution_count": 6,
   "metadata": {},
   "outputs": [],
   "source": [
    "col_names = ['restaurant_id', 'ticket_id', 'ticket_open_time', 'ticket_close_time', 'ticket_guest_count', 'business_date', 'ticket_tax', 'ticket_tip', 'ticket_net_sales', 'item_category', 'item_subcategory', 'item_name','item_id', 'item_sales','item_quantity', 'unit_price']"
   ]
  },
  {
   "cell_type": "code",
   "execution_count": 1,
   "metadata": {},
   "outputs": [],
   "source": [
    "import glob\n",
    "\n",
    "path = r'/Users/ivanapetrovic/Downloads/Sample Data/' \n",
    "all_files = glob.glob(path + \"/*.csv\")"
   ]
  },
  {
   "cell_type": "code",
   "execution_count": 2,
   "metadata": {},
   "outputs": [
    {
     "data": {
      "text/plain": [
       "['/Users/ivanapetrovic/Downloads/Sample Data/96c09a897dabc8bac7151e95bc989ddc.csv',\n",
       " '/Users/ivanapetrovic/Downloads/Sample Data/9099e583385e67c55f6221593a124b04.csv',\n",
       " '/Users/ivanapetrovic/Downloads/Sample Data/e05b9136f430b1b7afbf78ae9b094d84.csv',\n",
       " '/Users/ivanapetrovic/Downloads/Sample Data/cddda95ca05be38dbc1209ae8c6af6a6.csv']"
      ]
     },
     "execution_count": 2,
     "metadata": {},
     "output_type": "execute_result"
    }
   ],
   "source": [
    "all_files"
   ]
  },
  {
   "cell_type": "code",
   "execution_count": 7,
   "metadata": {},
   "outputs": [],
   "source": [
    "df = pd.DataFrame()\n",
    "restaurant_id=0\n",
    "\n",
    "for filename in all_files:\n",
    "    restaurant_id += 1 \n",
    "    df_tmp = pd.read_csv(filename, index_col=None, names=col_names)\n",
    "    df_tmp['restaurant_id']=restaurant_id  \n",
    "    df = pd.concat([df, df_tmp], ignore_index = True)"
   ]
  },
  {
   "cell_type": "code",
   "execution_count": 8,
   "metadata": {},
   "outputs": [
    {
     "data": {
      "text/html": [
       "<div>\n",
       "<style scoped>\n",
       "    .dataframe tbody tr th:only-of-type {\n",
       "        vertical-align: middle;\n",
       "    }\n",
       "\n",
       "    .dataframe tbody tr th {\n",
       "        vertical-align: top;\n",
       "    }\n",
       "\n",
       "    .dataframe thead th {\n",
       "        text-align: right;\n",
       "    }\n",
       "</style>\n",
       "<table border=\"1\" class=\"dataframe\">\n",
       "  <thead>\n",
       "    <tr style=\"text-align: right;\">\n",
       "      <th></th>\n",
       "      <th>restaurant_id</th>\n",
       "      <th>ticket_id</th>\n",
       "      <th>ticket_open_time</th>\n",
       "      <th>ticket_close_time</th>\n",
       "      <th>ticket_guest_count</th>\n",
       "      <th>business_date</th>\n",
       "      <th>ticket_tax</th>\n",
       "      <th>ticket_tip</th>\n",
       "      <th>ticket_net_sales</th>\n",
       "      <th>item_category</th>\n",
       "      <th>item_subcategory</th>\n",
       "      <th>item_name</th>\n",
       "      <th>item_id</th>\n",
       "      <th>item_sales</th>\n",
       "      <th>item_quantity</th>\n",
       "      <th>unit_price</th>\n",
       "    </tr>\n",
       "  </thead>\n",
       "  <tbody>\n",
       "    <tr>\n",
       "      <th>0</th>\n",
       "      <td>1</td>\n",
       "      <td>1995685763</td>\n",
       "      <td>2018-02-09 19:27:50</td>\n",
       "      <td>2018-02-11 03:39:36</td>\n",
       "      <td>2</td>\n",
       "      <td>2018-02-09</td>\n",
       "      <td>0.0</td>\n",
       "      <td>0.0</td>\n",
       "      <td>0.0</td>\n",
       "      <td>Food</td>\n",
       "      <td>Brunch</td>\n",
       "      <td>Arugula Salad</td>\n",
       "      <td>d5fb640a-72de-41aa-94af-b28292fba623</td>\n",
       "      <td>13.0</td>\n",
       "      <td>1.0</td>\n",
       "      <td>13.0</td>\n",
       "    </tr>\n",
       "    <tr>\n",
       "      <th>1</th>\n",
       "      <td>1</td>\n",
       "      <td>1995685763</td>\n",
       "      <td>2018-02-09 19:27:50</td>\n",
       "      <td>2018-02-11 03:39:36</td>\n",
       "      <td>2</td>\n",
       "      <td>2018-02-09</td>\n",
       "      <td>0.0</td>\n",
       "      <td>0.0</td>\n",
       "      <td>0.0</td>\n",
       "      <td>Food</td>\n",
       "      <td>Entrees</td>\n",
       "      <td>Trout</td>\n",
       "      <td>014669be-1ec3-485d-b19b-586a55bc0cf7</td>\n",
       "      <td>29.0</td>\n",
       "      <td>1.0</td>\n",
       "      <td>29.0</td>\n",
       "    </tr>\n",
       "    <tr>\n",
       "      <th>2</th>\n",
       "      <td>1</td>\n",
       "      <td>1995685763</td>\n",
       "      <td>2018-02-09 19:27:50</td>\n",
       "      <td>2018-02-11 03:39:36</td>\n",
       "      <td>2</td>\n",
       "      <td>2018-02-09</td>\n",
       "      <td>0.0</td>\n",
       "      <td>0.0</td>\n",
       "      <td>0.0</td>\n",
       "      <td>Food</td>\n",
       "      <td>Entrees</td>\n",
       "      <td>Trout</td>\n",
       "      <td>014669be-1ec3-485d-b19b-586a55bc0cf7</td>\n",
       "      <td>29.0</td>\n",
       "      <td>1.0</td>\n",
       "      <td>29.0</td>\n",
       "    </tr>\n",
       "    <tr>\n",
       "      <th>3</th>\n",
       "      <td>1</td>\n",
       "      <td>1995685763</td>\n",
       "      <td>2018-02-09 19:27:50</td>\n",
       "      <td>2018-02-11 03:39:36</td>\n",
       "      <td>2</td>\n",
       "      <td>2018-02-09</td>\n",
       "      <td>0.0</td>\n",
       "      <td>0.0</td>\n",
       "      <td>0.0</td>\n",
       "      <td>Beverage</td>\n",
       "      <td>Wine</td>\n",
       "      <td>Bourgogne Blanc Sml</td>\n",
       "      <td>21d1ca64-6e48-46c2-a41e-8d9694c33713</td>\n",
       "      <td>13.0</td>\n",
       "      <td>1.0</td>\n",
       "      <td>13.0</td>\n",
       "    </tr>\n",
       "    <tr>\n",
       "      <th>4</th>\n",
       "      <td>1</td>\n",
       "      <td>1995685763</td>\n",
       "      <td>2018-02-09 19:27:50</td>\n",
       "      <td>2018-02-11 03:39:36</td>\n",
       "      <td>2</td>\n",
       "      <td>2018-02-09</td>\n",
       "      <td>0.0</td>\n",
       "      <td>0.0</td>\n",
       "      <td>0.0</td>\n",
       "      <td>Beverage</td>\n",
       "      <td>Wine</td>\n",
       "      <td>Bourgogne Blanc Sml</td>\n",
       "      <td>21d1ca64-6e48-46c2-a41e-8d9694c33713</td>\n",
       "      <td>13.0</td>\n",
       "      <td>1.0</td>\n",
       "      <td>13.0</td>\n",
       "    </tr>\n",
       "  </tbody>\n",
       "</table>\n",
       "</div>"
      ],
      "text/plain": [
       "   restaurant_id   ticket_id     ticket_open_time    ticket_close_time  \\\n",
       "0              1  1995685763  2018-02-09 19:27:50  2018-02-11 03:39:36   \n",
       "1              1  1995685763  2018-02-09 19:27:50  2018-02-11 03:39:36   \n",
       "2              1  1995685763  2018-02-09 19:27:50  2018-02-11 03:39:36   \n",
       "3              1  1995685763  2018-02-09 19:27:50  2018-02-11 03:39:36   \n",
       "4              1  1995685763  2018-02-09 19:27:50  2018-02-11 03:39:36   \n",
       "\n",
       "   ticket_guest_count business_date  ticket_tax  ticket_tip  ticket_net_sales  \\\n",
       "0                   2    2018-02-09         0.0         0.0               0.0   \n",
       "1                   2    2018-02-09         0.0         0.0               0.0   \n",
       "2                   2    2018-02-09         0.0         0.0               0.0   \n",
       "3                   2    2018-02-09         0.0         0.0               0.0   \n",
       "4                   2    2018-02-09         0.0         0.0               0.0   \n",
       "\n",
       "  item_category item_subcategory            item_name  \\\n",
       "0          Food           Brunch        Arugula Salad   \n",
       "1          Food          Entrees                Trout   \n",
       "2          Food          Entrees                Trout   \n",
       "3      Beverage             Wine  Bourgogne Blanc Sml   \n",
       "4      Beverage             Wine  Bourgogne Blanc Sml   \n",
       "\n",
       "                                item_id  item_sales  item_quantity  unit_price  \n",
       "0  d5fb640a-72de-41aa-94af-b28292fba623        13.0            1.0        13.0  \n",
       "1  014669be-1ec3-485d-b19b-586a55bc0cf7        29.0            1.0        29.0  \n",
       "2  014669be-1ec3-485d-b19b-586a55bc0cf7        29.0            1.0        29.0  \n",
       "3  21d1ca64-6e48-46c2-a41e-8d9694c33713        13.0            1.0        13.0  \n",
       "4  21d1ca64-6e48-46c2-a41e-8d9694c33713        13.0            1.0        13.0  "
      ]
     },
     "execution_count": 8,
     "metadata": {},
     "output_type": "execute_result"
    }
   ],
   "source": [
    "df.head()"
   ]
  },
  {
   "cell_type": "code",
   "execution_count": 7,
   "metadata": {},
   "outputs": [
    {
     "data": {
      "text/plain": [
       "(391378, 16)"
      ]
     },
     "execution_count": 7,
     "metadata": {},
     "output_type": "execute_result"
    }
   ],
   "source": [
    "df.shape"
   ]
  },
  {
   "cell_type": "code",
   "execution_count": 8,
   "metadata": {},
   "outputs": [
    {
     "data": {
      "text/plain": [
       "restaurant_id           int64\n",
       "ticket_id               int64\n",
       "ticket_open_time       object\n",
       "ticket_close_time      object\n",
       "ticket_guest_count      int64\n",
       "business_date          object\n",
       "ticket_tax            float64\n",
       "ticket_tip            float64\n",
       "ticket_net_sales      float64\n",
       "item_category          object\n",
       "item_subcategory       object\n",
       "item_name              object\n",
       "item_id                object\n",
       "item_sales            float64\n",
       "item_quantity         float64\n",
       "unit_price            float64\n",
       "dtype: object"
      ]
     },
     "execution_count": 8,
     "metadata": {},
     "output_type": "execute_result"
    }
   ],
   "source": [
    "df.dtypes"
   ]
  },
  {
   "cell_type": "markdown",
   "metadata": {},
   "source": [
    "2) Visualize daily total net sales of the restaurant #3. Which date does it reach its maximum?"
   ]
  },
  {
   "cell_type": "code",
   "execution_count": 9,
   "metadata": {},
   "outputs": [],
   "source": [
    "### Date columns\n",
    "df['ticket_open_time'] = pd.to_datetime(df['ticket_open_time'],infer_datetime_format=True)\n",
    "df['ticket_close_time'] = pd.to_datetime(df['ticket_close_time'],infer_datetime_format=True)\n",
    "df['business_date'] = pd.to_datetime(df['business_date'],infer_datetime_format=True)"
   ]
  },
  {
   "cell_type": "code",
   "execution_count": 10,
   "metadata": {},
   "outputs": [
    {
     "data": {
      "text/plain": [
       "restaurant_id                  int64\n",
       "ticket_id                      int64\n",
       "ticket_open_time      datetime64[ns]\n",
       "ticket_close_time     datetime64[ns]\n",
       "ticket_guest_count             int64\n",
       "business_date         datetime64[ns]\n",
       "ticket_tax                   float64\n",
       "ticket_tip                   float64\n",
       "ticket_net_sales             float64\n",
       "item_category                 object\n",
       "item_subcategory              object\n",
       "item_name                     object\n",
       "item_id                       object\n",
       "item_sales                   float64\n",
       "item_quantity                float64\n",
       "unit_price                   float64\n",
       "dtype: object"
      ]
     },
     "execution_count": 10,
     "metadata": {},
     "output_type": "execute_result"
    }
   ],
   "source": [
    "df.dtypes"
   ]
  },
  {
   "cell_type": "code",
   "execution_count": 11,
   "metadata": {},
   "outputs": [
    {
     "data": {
      "text/html": [
       "<div>\n",
       "<style scoped>\n",
       "    .dataframe tbody tr th:only-of-type {\n",
       "        vertical-align: middle;\n",
       "    }\n",
       "\n",
       "    .dataframe tbody tr th {\n",
       "        vertical-align: top;\n",
       "    }\n",
       "\n",
       "    .dataframe thead th {\n",
       "        text-align: right;\n",
       "    }\n",
       "</style>\n",
       "<table border=\"1\" class=\"dataframe\">\n",
       "  <thead>\n",
       "    <tr style=\"text-align: right;\">\n",
       "      <th></th>\n",
       "      <th>restaurant_id</th>\n",
       "      <th>ticket_id</th>\n",
       "      <th>ticket_open_time</th>\n",
       "      <th>ticket_close_time</th>\n",
       "      <th>ticket_guest_count</th>\n",
       "      <th>business_date</th>\n",
       "      <th>ticket_tax</th>\n",
       "      <th>ticket_tip</th>\n",
       "      <th>ticket_net_sales</th>\n",
       "      <th>item_category</th>\n",
       "      <th>item_subcategory</th>\n",
       "      <th>item_name</th>\n",
       "      <th>item_id</th>\n",
       "      <th>item_sales</th>\n",
       "      <th>item_quantity</th>\n",
       "      <th>unit_price</th>\n",
       "    </tr>\n",
       "  </thead>\n",
       "  <tbody>\n",
       "    <tr>\n",
       "      <th>99041</th>\n",
       "      <td>3</td>\n",
       "      <td>1847775477</td>\n",
       "      <td>2018-01-01 21:13:00</td>\n",
       "      <td>2018-01-02 02:53:55</td>\n",
       "      <td>1</td>\n",
       "      <td>2018-01-01</td>\n",
       "      <td>6.11</td>\n",
       "      <td>20.0</td>\n",
       "      <td>76.4</td>\n",
       "      <td>LIQUOR</td>\n",
       "      <td>CALL</td>\n",
       "      <td>TITO'S</td>\n",
       "      <td>147</td>\n",
       "      <td>7.0</td>\n",
       "      <td>1.0</td>\n",
       "      <td>7.0</td>\n",
       "    </tr>\n",
       "    <tr>\n",
       "      <th>99042</th>\n",
       "      <td>3</td>\n",
       "      <td>1847775477</td>\n",
       "      <td>2018-01-01 21:13:00</td>\n",
       "      <td>2018-01-02 02:53:55</td>\n",
       "      <td>1</td>\n",
       "      <td>2018-01-01</td>\n",
       "      <td>6.11</td>\n",
       "      <td>20.0</td>\n",
       "      <td>76.4</td>\n",
       "      <td>SPECIALS</td>\n",
       "      <td>APPETIZER</td>\n",
       "      <td>MOZZARELLA WEDGES</td>\n",
       "      <td>2635</td>\n",
       "      <td>8.5</td>\n",
       "      <td>1.0</td>\n",
       "      <td>8.5</td>\n",
       "    </tr>\n",
       "    <tr>\n",
       "      <th>99043</th>\n",
       "      <td>3</td>\n",
       "      <td>1847775477</td>\n",
       "      <td>2018-01-01 21:13:00</td>\n",
       "      <td>2018-01-02 02:53:55</td>\n",
       "      <td>1</td>\n",
       "      <td>2018-01-01</td>\n",
       "      <td>6.11</td>\n",
       "      <td>20.0</td>\n",
       "      <td>76.4</td>\n",
       "      <td>WINE</td>\n",
       "      <td>RED GLASS</td>\n",
       "      <td>MACMURRAY PINOT NOIR</td>\n",
       "      <td>5037</td>\n",
       "      <td>10.0</td>\n",
       "      <td>1.0</td>\n",
       "      <td>10.0</td>\n",
       "    </tr>\n",
       "    <tr>\n",
       "      <th>99044</th>\n",
       "      <td>3</td>\n",
       "      <td>1847775477</td>\n",
       "      <td>2018-01-01 21:13:00</td>\n",
       "      <td>2018-01-02 02:53:55</td>\n",
       "      <td>1</td>\n",
       "      <td>2018-01-01</td>\n",
       "      <td>6.11</td>\n",
       "      <td>20.0</td>\n",
       "      <td>76.4</td>\n",
       "      <td>WINE</td>\n",
       "      <td>RED GLASS</td>\n",
       "      <td>MACMURRAY PINOT NOIR</td>\n",
       "      <td>5037</td>\n",
       "      <td>10.0</td>\n",
       "      <td>1.0</td>\n",
       "      <td>10.0</td>\n",
       "    </tr>\n",
       "    <tr>\n",
       "      <th>99045</th>\n",
       "      <td>3</td>\n",
       "      <td>1847775477</td>\n",
       "      <td>2018-01-01 21:13:00</td>\n",
       "      <td>2018-01-02 02:53:55</td>\n",
       "      <td>1</td>\n",
       "      <td>2018-01-01</td>\n",
       "      <td>6.11</td>\n",
       "      <td>20.0</td>\n",
       "      <td>76.4</td>\n",
       "      <td>WINE</td>\n",
       "      <td>RED GLASS</td>\n",
       "      <td>MACMURRAY PINOT NOIR</td>\n",
       "      <td>5037</td>\n",
       "      <td>10.0</td>\n",
       "      <td>1.0</td>\n",
       "      <td>10.0</td>\n",
       "    </tr>\n",
       "    <tr>\n",
       "      <th>99046</th>\n",
       "      <td>3</td>\n",
       "      <td>1847775477</td>\n",
       "      <td>2018-01-01 21:13:00</td>\n",
       "      <td>2018-01-02 02:53:55</td>\n",
       "      <td>1</td>\n",
       "      <td>2018-01-01</td>\n",
       "      <td>6.11</td>\n",
       "      <td>20.0</td>\n",
       "      <td>76.4</td>\n",
       "      <td>PIZZA</td>\n",
       "      <td>PIZZA</td>\n",
       "      <td>MARGHARITA PIZZA</td>\n",
       "      <td>2701</td>\n",
       "      <td>9.9</td>\n",
       "      <td>1.0</td>\n",
       "      <td>9.9</td>\n",
       "    </tr>\n",
       "    <tr>\n",
       "      <th>99047</th>\n",
       "      <td>3</td>\n",
       "      <td>1847775477</td>\n",
       "      <td>2018-01-01 21:13:00</td>\n",
       "      <td>2018-01-02 02:53:55</td>\n",
       "      <td>1</td>\n",
       "      <td>2018-01-01</td>\n",
       "      <td>6.11</td>\n",
       "      <td>20.0</td>\n",
       "      <td>76.4</td>\n",
       "      <td>BEER</td>\n",
       "      <td>DOMESTIC BTL</td>\n",
       "      <td>GOOSE SOFIE</td>\n",
       "      <td>1345</td>\n",
       "      <td>11.0</td>\n",
       "      <td>1.0</td>\n",
       "      <td>11.0</td>\n",
       "    </tr>\n",
       "    <tr>\n",
       "      <th>99048</th>\n",
       "      <td>3</td>\n",
       "      <td>1847775477</td>\n",
       "      <td>2018-01-01 21:13:00</td>\n",
       "      <td>2018-01-02 02:53:55</td>\n",
       "      <td>1</td>\n",
       "      <td>2018-01-01</td>\n",
       "      <td>6.11</td>\n",
       "      <td>20.0</td>\n",
       "      <td>76.4</td>\n",
       "      <td>BEER</td>\n",
       "      <td>DOMESTIC BTL</td>\n",
       "      <td>SAM ADAMS WINTER</td>\n",
       "      <td>1160</td>\n",
       "      <td>5.0</td>\n",
       "      <td>1.0</td>\n",
       "      <td>5.0</td>\n",
       "    </tr>\n",
       "    <tr>\n",
       "      <th>99049</th>\n",
       "      <td>3</td>\n",
       "      <td>1847775477</td>\n",
       "      <td>2018-01-01 21:13:00</td>\n",
       "      <td>2018-01-02 02:53:55</td>\n",
       "      <td>1</td>\n",
       "      <td>2018-01-01</td>\n",
       "      <td>6.11</td>\n",
       "      <td>20.0</td>\n",
       "      <td>76.4</td>\n",
       "      <td>BEER</td>\n",
       "      <td>DOMESTIC BTL</td>\n",
       "      <td>SAM ADAMS WINTER</td>\n",
       "      <td>1160</td>\n",
       "      <td>5.0</td>\n",
       "      <td>1.0</td>\n",
       "      <td>5.0</td>\n",
       "    </tr>\n",
       "    <tr>\n",
       "      <th>99050</th>\n",
       "      <td>3</td>\n",
       "      <td>1847775379</td>\n",
       "      <td>2018-01-01 21:13:00</td>\n",
       "      <td>2018-01-02 02:50:33</td>\n",
       "      <td>1</td>\n",
       "      <td>2018-01-01</td>\n",
       "      <td>4.23</td>\n",
       "      <td>0.0</td>\n",
       "      <td>52.9</td>\n",
       "      <td>LIQUOR</td>\n",
       "      <td>CORDIALS</td>\n",
       "      <td>RUMPLEMINZ</td>\n",
       "      <td>780</td>\n",
       "      <td>6.0</td>\n",
       "      <td>1.0</td>\n",
       "      <td>6.0</td>\n",
       "    </tr>\n",
       "  </tbody>\n",
       "</table>\n",
       "</div>"
      ],
      "text/plain": [
       "       restaurant_id   ticket_id     ticket_open_time    ticket_close_time  \\\n",
       "99041              3  1847775477  2018-01-01 21:13:00  2018-01-02 02:53:55   \n",
       "99042              3  1847775477  2018-01-01 21:13:00  2018-01-02 02:53:55   \n",
       "99043              3  1847775477  2018-01-01 21:13:00  2018-01-02 02:53:55   \n",
       "99044              3  1847775477  2018-01-01 21:13:00  2018-01-02 02:53:55   \n",
       "99045              3  1847775477  2018-01-01 21:13:00  2018-01-02 02:53:55   \n",
       "99046              3  1847775477  2018-01-01 21:13:00  2018-01-02 02:53:55   \n",
       "99047              3  1847775477  2018-01-01 21:13:00  2018-01-02 02:53:55   \n",
       "99048              3  1847775477  2018-01-01 21:13:00  2018-01-02 02:53:55   \n",
       "99049              3  1847775477  2018-01-01 21:13:00  2018-01-02 02:53:55   \n",
       "99050              3  1847775379  2018-01-01 21:13:00  2018-01-02 02:50:33   \n",
       "\n",
       "       ticket_guest_count business_date  ticket_tax  ticket_tip  \\\n",
       "99041                   1    2018-01-01        6.11        20.0   \n",
       "99042                   1    2018-01-01        6.11        20.0   \n",
       "99043                   1    2018-01-01        6.11        20.0   \n",
       "99044                   1    2018-01-01        6.11        20.0   \n",
       "99045                   1    2018-01-01        6.11        20.0   \n",
       "99046                   1    2018-01-01        6.11        20.0   \n",
       "99047                   1    2018-01-01        6.11        20.0   \n",
       "99048                   1    2018-01-01        6.11        20.0   \n",
       "99049                   1    2018-01-01        6.11        20.0   \n",
       "99050                   1    2018-01-01        4.23         0.0   \n",
       "\n",
       "       ticket_net_sales item_category item_subcategory             item_name  \\\n",
       "99041              76.4        LIQUOR             CALL                TITO'S   \n",
       "99042              76.4      SPECIALS        APPETIZER     MOZZARELLA WEDGES   \n",
       "99043              76.4          WINE        RED GLASS  MACMURRAY PINOT NOIR   \n",
       "99044              76.4          WINE        RED GLASS  MACMURRAY PINOT NOIR   \n",
       "99045              76.4          WINE        RED GLASS  MACMURRAY PINOT NOIR   \n",
       "99046              76.4         PIZZA            PIZZA      MARGHARITA PIZZA   \n",
       "99047              76.4          BEER     DOMESTIC BTL           GOOSE SOFIE   \n",
       "99048              76.4          BEER     DOMESTIC BTL      SAM ADAMS WINTER   \n",
       "99049              76.4          BEER     DOMESTIC BTL      SAM ADAMS WINTER   \n",
       "99050              52.9        LIQUOR         CORDIALS            RUMPLEMINZ   \n",
       "\n",
       "      item_id  item_sales  item_quantity  unit_price  \n",
       "99041     147         7.0            1.0         7.0  \n",
       "99042    2635         8.5            1.0         8.5  \n",
       "99043    5037        10.0            1.0        10.0  \n",
       "99044    5037        10.0            1.0        10.0  \n",
       "99045    5037        10.0            1.0        10.0  \n",
       "99046    2701         9.9            1.0         9.9  \n",
       "99047    1345        11.0            1.0        11.0  \n",
       "99048    1160         5.0            1.0         5.0  \n",
       "99049    1160         5.0            1.0         5.0  \n",
       "99050     780         6.0            1.0         6.0  "
      ]
     },
     "execution_count": 11,
     "metadata": {},
     "output_type": "execute_result"
    }
   ],
   "source": [
    "df.loc[df.restaurant_id==3].head(10)"
   ]
  },
  {
   "cell_type": "code",
   "execution_count": 11,
   "metadata": {},
   "outputs": [
    {
     "data": {
      "image/png": "[encoded data removed]",
      "text/plain": [
       "<Figure size 432x288 with 1 Axes>"
      ]
     },
     "metadata": {
      "needs_background": "light"
     },
     "output_type": "display_data"
    }
   ],
   "source": [
    "restaurant_id=3\n",
    "daily_sales=df[df['restaurant_id']==restaurant_id].groupby(['business_date','ticket_id']).mean()[['ticket_net_sales']].groupby('business_date').sum()\n",
    "daily_sales.plot(legend=False)\n",
    "plt.xlabel('business date')\n",
    "plt.ylabel('total sales [$]')\n",
    "plt.show()"
   ]
  },
  {
   "cell_type": "code",
   "execution_count": 12,
   "metadata": {},
   "outputs": [
    {
     "name": "stdout",
     "output_type": "stream",
     "text": [
      "ticket_net_sales   2018-03-17\n",
      "dtype: datetime64[ns]\n",
      "ticket_net_sales    14732.8\n",
      "dtype: float64\n"
     ]
    },
    {
     "data": {
      "text/plain": [
       "'Saturday'"
      ]
     },
     "execution_count": 12,
     "metadata": {},
     "output_type": "execute_result"
    }
   ],
   "source": [
    "#Day of the year with the largest sale: date, total amount of sales, and day of the week\n",
    "print(daily_sales.idxmax())\n",
    "print(daily_sales.max())\n",
    "import calendar\n",
    "calendar.day_name[daily_sales.idxmax()['ticket_net_sales'].weekday()]"
   ]
  },
  {
   "cell_type": "markdown",
   "metadata": {},
   "source": [
    "3) Plot a heatmap of the average total net sales of restaurant #3 per day of the week and month"
   ]
  },
  {
   "cell_type": "code",
   "execution_count": 13,
   "metadata": {},
   "outputs": [],
   "source": [
    "heatmap = np.zeros((7, 12))\n",
    "qmap = np.zeros((7, 12))  \n",
    "#heatmap[:] = np.nan\n",
    "\n",
    "restaurant_id=3\n",
    "daily_sales=df[df['restaurant_id']==restaurant_id].groupby(['business_date','ticket_id']).mean()[['ticket_net_sales']].groupby('business_date').sum()\n",
    "\n",
    "for ind in range(0,len(daily_sales.index)):\n",
    "    day=daily_sales.index[ind].dayofweek\n",
    "    month=daily_sales.index[ind].month\n",
    "    qmap[day, month-1] += 1\n",
    "    heatmap[day, month-1] = heatmap[day, month-1]+daily_sales['ticket_net_sales'][ind]  \n",
    "\n",
    "heatmap = np.divide(heatmap,qmap)"
   ]
  },
  {
   "cell_type": "code",
   "execution_count": 14,
   "metadata": {},
   "outputs": [
    {
     "data": {
      "image/png": "[encoded data removed]",
      "text/plain": [
       "<Figure size 432x288 with 2 Axes>"
      ]
     },
     "metadata": {
      "needs_background": "light"
     },
     "output_type": "display_data"
    }
   ],
   "source": [
    "fig = plt.figure()\n",
    "ax = fig.add_subplot(111)\n",
    "im = ax.imshow(heatmap, interpolation='nearest')\n",
    "ax.set_title('Average total sales in restaurant 1 in 2018 per day of the week and month')\n",
    "ax.set_yticks(range(7))\n",
    "ax.set_yticklabels(['Mon','Tue','Wed','Thu','Fri','Sat','Sun'])\n",
    "ax.set_xticks(range(12))\n",
    "ax.set_xticklabels(['Jan', 'Feb', 'Mar', 'Apr', 'May', 'Jun',\n",
    "                    'Jul', 'Aug', 'Sep', 'Oct', 'Nov', 'Dec'])\n",
    "cbar = fig.colorbar(ax=ax, mappable=im, orientation='horizontal')\n",
    "cbar.set_label('Sales [$]')"
   ]
  },
  {
   "cell_type": "markdown",
   "metadata": {},
   "source": [
    "4) Compute and visualize total net food sales in 2018 and total net drink sales in 2018 for each restaurant"
   ]
  },
  {
   "cell_type": "code",
   "execution_count": 15,
   "metadata": {},
   "outputs": [
    {
     "data": {
      "text/plain": [
       "array(['Food', 'Beverage', 'Gift Cards', 'Cooking classes',\n",
       "       'Room Deposit', 'Retail', 'Retail Beers', 'Merchandise',\n",
       "       'Employee Price List', 'Fees', 'LIQUOR', 'SPECIALS', 'WINE',\n",
       "       'PIZZA', 'BEER', 'ENTREES', 'SOUP/SALADS', 'SANDW/BURGERS',\n",
       "       'BEVERAGES', 'APPETIZERS', 'CHILDRENS', 'SIDES', 'DESSERTS',\n",
       "       'PROMOTION/DISCOUNTS', 'RETAIL', 'MISC CHARGES', nan, 'FUNCTIONS',\n",
       "       'Non Alcoholic Beverages', 'Breakfast', 'Beverages', 'Misc.',\n",
       "       'Liquor', 'Gift Certificate'], dtype=object)"
      ]
     },
     "execution_count": 15,
     "metadata": {},
     "output_type": "execute_result"
    }
   ],
   "source": [
    "df['item_category'].unique()"
   ]
  },
  {
   "cell_type": "code",
   "execution_count": 16,
   "metadata": {},
   "outputs": [],
   "source": [
    "List_drinks=['N/A Bev','Beer', 'Liquor', 'Wine','BEER', 'Beverage','N/A BEVERAGES', 'Spirits', 'Cocktails','Retail Beers','Beverages','Non Alcoholic Beverages', 'LIQUOR', 'WINE','BEVERAGES', 'LIQUOR OPTIONS', 'DRAFT BEER', 'BOTTLE BEER', 'FUNCTIONS']"
   ]
  },
  {
   "cell_type": "code",
   "execution_count": 17,
   "metadata": {},
   "outputs": [],
   "source": [
    "List_food=['Flatbreads','Food','Creamery', 'Kids', 'New Years','Curry', 'FOOD','Specials','Breakfast Sides', 'Breakfast', 'Bakery','Lunch', 'Soups & Salads', 'Grab n Go', 'Breakfast special','Breakfast Sandwiches', 'Dinner', 'SPECIALS', 'PIZZA','ENTREES', 'SOUP/SALADS', 'SANDW/BURGERS','APPETIZERS', 'CHILDRENS', 'SIDES', 'DESSERTS','SANDWICHES', 'FOOD OPTIONS', 'KIDS', 'SOUP/SALADS/APPS','FOOD OPTIONS CONT.','PIZZA / CALZONE','Launch','ENTREE', 'APPETIZER', 'DESSERT']"
   ]
  },
  {
   "cell_type": "code",
   "execution_count": 18,
   "metadata": {},
   "outputs": [],
   "source": [
    "# total sales of food vs drinks at the restaurants in 2018, not including tax, tips, discounts and voids\n",
    "s_items_drinks=[];\n",
    "s_items_food=[];\n",
    "store_id=0;\n",
    "for filename in all_files:\n",
    "    store_id += 1\n",
    "    s_items_drinks.append(df[(df['restaurant_id']==store_id) & (df['item_category'].isin(List_drinks))].groupby('ticket_id')['item_sales'].sum().sum().round())\n",
    "    s_items_food.append(df[(df['restaurant_id']==store_id) & (df['item_category'].isin(List_food))].groupby('ticket_id')['item_sales'].sum().sum().round())\n",
    "                   "
   ]
  },
  {
   "cell_type": "code",
   "execution_count": 19,
   "metadata": {},
   "outputs": [
    {
     "data": {
      "image/png": "[encoded data removed]",
      "text/plain": [
       "<Figure size 432x288 with 1 Axes>"
      ]
     },
     "metadata": {
      "needs_background": "light"
     },
     "output_type": "display_data"
    }
   ],
   "source": [
    "barWidth=0.3\n",
    "r1 = np.arange(4)\n",
    "r2 = [x + barWidth for x in r1]\n",
    "plt.bar(r1, s_items_food, color='red', width=barWidth, edgecolor='white', label='food')\n",
    "plt.bar(r2, s_items_drinks, color='black', width=barWidth, edgecolor='white', label='drinks')\n",
    "plt.xticks(np.arange(4), np.arange(1,5))\n",
    "plt.xlabel(\"restaurant number id\")\n",
    "plt.ylabel(\"total sales food vs drinks in 2018 [$]\")\n",
    "plt.legend()\n",
    "plt.show()"
   ]
  },
  {
   "cell_type": "code",
   "execution_count": null,
   "metadata": {},
   "outputs": [],
   "source": []
  },
  {
   "cell_type": "code",
   "execution_count": null,
   "metadata": {},
   "outputs": [],
   "source": []
  },
  {
   "cell_type": "code",
   "execution_count": null,
   "metadata": {},
   "outputs": [],
   "source": []
  }
 ],
 "metadata": {
  "kernelspec": {
   "display_name": "Python 3",
   "language": "python",
   "name": "python3"
  },
  "language_info": {
   "codemirror_mode": {
    "name": "ipython",
    "version": 3
   },
   "file_extension": ".py",
   "mimetype": "text/x-python",
   "name": "python",
   "nbconvert_exporter": "python",
   "pygments_lexer": "ipython3",
   "version": "3.8.5"
  }
 },
 "nbformat": 4,
 "nbformat_minor": 4
}
