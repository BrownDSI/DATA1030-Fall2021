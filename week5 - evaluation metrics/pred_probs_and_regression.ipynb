{
 "cells": [
  {
   "attachments": {},
   "cell_type": "markdown",
   "metadata": {},
   "source": [
    "## Mudcard questions\n",
    "- **If I have a high imbalanced data of some features, but it is a regression problem, which evaluation metrics should I use?**\n",
    "    - only the classification target variable can be imbalanced, it generally does not matter if a categorical feature is imbalanced\n",
    "    - select from any of the regression metrics we will cover today\n",
    "- **The fbeta score seems muddiest to me - why would we have to square beta to get the relative weight of precision and recall.**\n",
    "- **Why is the harmonic mean used for the F score?**\n",
    "    - that's the equation of a weighted harmonic mean\n",
    "    - there are other means you can use to combine P and R but the weighted harmonic mean has a nice property that other means do not have:\n",
    "        - if either P or R are 0, the weighted harmonic mean is 0 too \n",
    "        - this is not the case for the simple mean for example\n",
    "- **why we should use a large beta when it's cheap to act?**\n",
    "    - if beta is large, it will give more weight to recall\n",
    "    - recall measure what fraction of the condition positives are correctly identified\n",
    "    - if it's cheap to act and it's not too bad if you act on incorrectly classified points (e.g., send propomtional emails), recall is what you care about most\n",
    "- **I am a little confused about expensive and cheap act.**\n",
    "    - you develop ML models to make predictions and more importantly **to act on those predictions**\n",
    "        - predict stocks price: should i buy or sell certain stocks?\n",
    "        - predict cancer: should this patient receive chemotherapy? \n",
    "        - predict loan defaults: should we give lona to this person or not?\n",
    "        - predict engagement/shopping: should i send a propmotional email to this person or not?\n",
    "        - predict if user will click on ad: should i show this ad to the person or not?\n",
    "    - interventions carry certain risks\n",
    "        - expensive to act: treating a patient who has no cancer with chemotherapy is a very bad idea \n",
    "            - making a mistake is costly because chemo is tough and has a ton of sideeffects\n",
    "        - cheap to act: sending an email to a customer is no big deal even if they won't shop\n",
    "            - the mistake is not costly because an extra email in someone's mailbox is no big deal\n",
    "- **I'm a little confused about the normalization part in the plot_confusion_matrix function.**\n",
    "- **if I apply normalization to confusion matrix, how that going to effect the result?**\n",
    "    - there are several ways to normalize the confusion matrix\n",
    "    - the plot_confusion_matrix function normalizes along the true class 0/1 rows so the values of each row will sum to 1 while the values of each column won't\n",
    "    - you could also normalize the whole confusion matrix such that all values sum to 1\n",
    "    - you could also normalize such that the predicted class0/1 columns sum to 1 but this is rarely done\n",
    "- **still confused about how to choose a metric**\n",
    "    - always consider how you will act based on the model's prediction\n",
    "    - weight how bad it is to act on a false positive and how bad it is to not act on a false negative\n",
    "- **How do you come to a final decision on what B should be? I understand that B effects accuracy and precision, and you can change B to effect the scores of each, but how do you decide to what degree you change B?**\n",
    "    - see answers above\n",
    "    - how will you act based on your model's prediction?\n",
    "    - weight the effect of incorrect action on false positives and false neagtives"
   ]
  },
  {
   "cell_type": "markdown",
   "metadata": {
    "slideshow": {
     "slide_type": "slide"
    }
   },
   "source": [
    "## Evaluation metrics in supervised ML, part 2, predicted probabilities and regression metrics\n",
    "\n",
    "By the end of this lecture, you will be able to\n",
    "- Summarize the ROC and precision-recall curves, and the logloss metric\n",
    "- Describe the most commonly used regression metrics\n"
   ]
  },
  {
   "cell_type": "markdown",
   "metadata": {
    "slideshow": {
     "slide_type": "slide"
    }
   },
   "source": [
    "## <font color='LIGHTGRAY'> Evaluation metrics in supervised ML, part 2, predicted probabilities and regression</font>\n",
    "\n",
    "<font color='LIGHTGRAY'>By the end of this lecture, you will be able to</font>\n",
    "- **Summarize the ROC and precision-recall curves, and the logloss metric**\n",
    "- <font color='LIGHTGRAY'>Describe the most commonly used regression metrics</font>\n"
   ]
  },
  {
   "cell_type": "markdown",
   "metadata": {
    "slideshow": {
     "slide_type": "slide"
    }
   },
   "source": [
    "### The ROC curve\n",
    "- Receiver Operating Characteristic\n",
    "   - x axis: false positive rate (fpr = FP / (FP + TN))\n",
    "   - y axis: true positive rate (R = TP / (TP + FN))\n",
    "   - the curve shows fpr and R value pairs for various class 1 critical probabilities\n",
    "- upper left corner: perfect predictor\n",
    "- diagonal point: chance level predictions\n",
    "- lower right corner: worst predictor"
   ]
  },
  {
   "cell_type": "code",
   "execution_count": 1,
   "metadata": {
    "slideshow": {
     "slide_type": "subslide"
    }
   },
   "outputs": [],
   "source": [
    "import pandas as pd\n",
    "import matplotlib.pyplot as plt\n",
    "import numpy as np\n",
    "from sklearn.metrics import confusion_matrix\n",
    "df = pd.read_csv('data/true_labels_pred_probs.csv')\n",
    "\n",
    "y_true = df['y_true']\n",
    "pred_prob_class1 = df['pred_prob_class1']\n",
    "\n",
    "fpr = np.zeros(len(y_true))\n",
    "tpr = np.zeros(len(y_true))\n",
    "\n",
    "p_crits = np.sort(pred_prob_class1) # the sorted predicted probabilities serve as critical probabilities\n",
    "\n",
    "for i in range(len(p_crits)):\n",
    "    p_crit = p_crits[i]\n",
    "    \n",
    "    y_pred = np.zeros(len(y_true))\n",
    "    y_pred[pred_prob_class1 < p_crit] = 0\n",
    "    y_pred[pred_prob_class1 >= p_crit] = 1\n",
    "    \n",
    "    C = confusion_matrix(y_true,y_pred) \n",
    "    \n",
    "    tpr[i] = C[1,1]/(C[1,0]+C[1,1])\n",
    "    fpr[i] = C[0,1]/(C[0,0]+C[0,1])\n",
    "\n",
    "# from sklearn.metrics import roc_curve\n",
    "# # the roc_curve function performs the same calculation\n",
    "# fpr,tpr,p_crits = roc_curve(y_true,pred_prob_class1)"
   ]
  },
  {
   "cell_type": "code",
   "execution_count": 2,
   "metadata": {
    "slideshow": {
     "slide_type": "subslide"
    }
   },
   "outputs": [
    {
     "data": {
      "image/png": "[encoded data removed]",
      "text/plain": [
       "<Figure size 432x288 with 1 Axes>"
      ]
     },
     "metadata": {
      "needs_background": "light"
     },
     "output_type": "display_data"
    }
   ],
   "source": [
    "plt.plot(fpr,tpr)\n",
    "plt.xlabel('fpr')\n",
    "plt.ylabel('tpr')\n",
    "plt.title('ROC curve')\n",
    "plt.show()"
   ]
  },
  {
   "cell_type": "markdown",
   "metadata": {
    "slideshow": {
     "slide_type": "slide"
    }
   },
   "source": [
    "## Quiz 1\n",
    "What's the (fpr,tpr) coordinate on the ROC curve if p_crit = 1?"
   ]
  },
  {
   "cell_type": "markdown",
   "metadata": {
    "slideshow": {
     "slide_type": "slide"
    }
   },
   "source": [
    "## ROC AUC\n",
    "- ROC is useful but it is not a single number metric\n",
    "   - it cannot be directly used to compare various classification models\n",
    "- summary statistics based on the ROC curve (for a complete list, see [here](https://en.wikipedia.org/wiki/Receiver_operating_characteristic#Further_interpretations))\n",
    "- most commonly used metric is ROC AUC - ROC Area Under the Curve\n",
    "   - AUC = 1 is a perfect classifier\n",
    "   - AUC > 0.5 is above chance-level predictor\n",
    "   - AUC = 0.5 is a chance-level classifier\n",
    "   - AUC < 0.5 is a bad predictor\n",
    "   - AUC = 0 classifies all points incorrectly"
   ]
  },
  {
   "cell_type": "code",
   "execution_count": 4,
   "metadata": {},
   "outputs": [
    {
     "name": "stdout",
     "output_type": "stream",
     "text": [
      "0.9236524315231854\n"
     ]
    }
   ],
   "source": [
    "from sklearn.metrics import roc_auc_score\n",
    "print(roc_auc_score(y_true,pred_prob_class1))"
   ]
  },
  {
   "cell_type": "markdown",
   "metadata": {
    "slideshow": {
     "slide_type": "slide"
    }
   },
   "source": [
    "## Precision-recall curve\n",
    "- the drawback of ROC is that it uses TN, not good for imbalanced problems.\n",
    "- the precision-recall curve doesn't use TN, ideal for imbalanced problems."
   ]
  },
  {
   "cell_type": "code",
   "execution_count": 5,
   "metadata": {},
   "outputs": [
    {
     "name": "stdout",
     "output_type": "stream",
     "text": [
      "0.9315588971251673\n"
     ]
    }
   ],
   "source": [
    "from sklearn.metrics import precision_recall_curve\n",
    "from sklearn.metrics import average_precision_score # the AUC of the P-R curve\n",
    "\n",
    "p,r,p_crits = precision_recall_curve(y_true,pred_prob_class1)\n",
    "\n",
    "print(average_precision_score(y_true,pred_prob_class1))"
   ]
  },
  {
   "cell_type": "code",
   "execution_count": 6,
   "metadata": {
    "slideshow": {
     "slide_type": "subslide"
    }
   },
   "outputs": [
    {
     "data": {
      "image/png": "[encoded data removed]",
      "text/plain": [
       "<Figure size 432x288 with 1 Axes>"
      ]
     },
     "metadata": {
      "needs_background": "light"
     },
     "output_type": "display_data"
    }
   ],
   "source": [
    "plt.plot(p,r)\n",
    "plt.xlabel('precision')\n",
    "plt.ylabel('recall')\n",
    "plt.title('P-R curve')\n",
    "plt.show()\n"
   ]
  },
  {
   "cell_type": "markdown",
   "metadata": {
    "slideshow": {
     "slide_type": "slide"
    }
   },
   "source": [
    "## Quiz 2\n",
    "What's the (p,r) coordinate on the curve if p_crit = 0?"
   ]
  },
  {
   "cell_type": "markdown",
   "metadata": {
    "slideshow": {
     "slide_type": "slide"
    }
   },
   "source": [
    "## The logloss metric\n",
    "\n",
    "### <center>$logloss = - \\frac{1}{N}\\sum (y_{true}\\ln(p_{pred}) + (1-y_{true})(1-\\ln(1-p_{pred})))$</center>\n",
    "- $p_{pred}$ is the predicted probability of the **positive class**\n",
    "- the predicted probabilities are not converted into predicted classes\n",
    "- excellent choice if you need accurate probabilities (e.g., when it is expensive/costly to act due to limited resources so you need to rank your points based on probabilities)\n",
    "- two scenarios:\n",
    "   - y_true = 0 - left term disappears\n",
    "   - y_true = 1 - right term disappears\n",
    "- log(0) is undefined\n",
    "   - $p_{pred}$ is replaced with $\\max(\\min(p,1-10^{-15}),10^{-15})$ to avoid this issue"
   ]
  },
  {
   "cell_type": "markdown",
   "metadata": {
    "slideshow": {
     "slide_type": "subslide"
    }
   },
   "source": [
    "### The extreme cases\n",
    "- the classifier is confidently wrong\n",
    "   - $p_{pred} = 10^{-15}$ for points in class 1\n",
    "   - $p_{pred} = 1 - 10^{-15}$ for points in class 0\n",
    "<center>$logloss = -\\frac{1}{N}\\sum \\ln(10^{-15}) = -\\ln(10^{-15})$</center>\n",
    "<center> $logloss \\sim  34.5  $</center>\n",
    "\n",
    "- the classifier is correct\n",
    "   - $p_{pred} = 10^{-15}$ for points in class 0\n",
    "   - $p_{pred} = 1 - 10^{-15}$ for points in class 1\n",
    "<center>$logloss = -\\frac{1}{N}\\sum (1-0)(1-\\ln(1-10^{-15})) = 10^{-15}$ for class 0</center>\n",
    "<center>$logloss = -\\frac{1}{N}\\sum 1*\\ln(1-10^{-15}) = 10^{-15}$ for class 1</center>\n",
    "<center>$logloss \\sim 0$</center>\n",
    "\n"
   ]
  },
  {
   "cell_type": "code",
   "execution_count": 8,
   "metadata": {
    "slideshow": {
     "slide_type": "subslide"
    }
   },
   "outputs": [
    {
     "name": "stdout",
     "output_type": "stream",
     "text": [
      "0.35015190545328556\n",
      "Help on function log_loss in module sklearn.metrics._classification:\n",
      "\n",
      "log_loss(y_true, y_pred, *, eps=1e-15, normalize=True, sample_weight=None, labels=None)\n",
      "    Log loss, aka logistic loss or cross-entropy loss.\n",
      "    \n",
      "    This is the loss function used in (multinomial) logistic regression\n",
      "    and extensions of it such as neural networks, defined as the negative\n",
      "    log-likelihood of a logistic model that returns ``y_pred`` probabilities\n",
      "    for its training data ``y_true``.\n",
      "    The log loss is only defined for two or more labels.\n",
      "    For a single sample with true label yt in {0,1} and\n",
      "    estimated probability yp that yt = 1, the log loss is\n",
      "    \n",
      "        -log P(yt|yp) = -(yt log(yp) + (1 - yt) log(1 - yp))\n",
      "    \n",
      "    Read more in the :ref:`User Guide <log_loss>`.\n",
      "    \n",
      "    Parameters\n",
      "    ----------\n",
      "    y_true : array-like or label indicator matrix\n",
      "        Ground truth (correct) labels for n_samples samples.\n",
      "    \n",
      "    y_pred : array-like of float, shape = (n_samples, n_classes) or (n_samples,)\n",
      "        Predicted probabilities, as returned by a classifier's\n",
      "        predict_proba method. If ``y_pred.shape = (n_samples,)``\n",
      "        the probabilities provided are assumed to be that of the\n",
      "        positive class. The labels in ``y_pred`` are assumed to be\n",
      "        ordered alphabetically, as done by\n",
      "        :class:`preprocessing.LabelBinarizer`.\n",
      "    \n",
      "    eps : float\n",
      "        Log loss is undefined for p=0 or p=1, so probabilities are\n",
      "        clipped to max(eps, min(1 - eps, p)).\n",
      "    \n",
      "    normalize : bool, optional (default=True)\n",
      "        If true, return the mean loss per sample.\n",
      "        Otherwise, return the sum of the per-sample losses.\n",
      "    \n",
      "    sample_weight : array-like of shape (n_samples,), default=None\n",
      "        Sample weights.\n",
      "    \n",
      "    labels : array-like, optional (default=None)\n",
      "        If not provided, labels will be inferred from y_true. If ``labels``\n",
      "        is ``None`` and ``y_pred`` has shape (n_samples,) the labels are\n",
      "        assumed to be binary and are inferred from ``y_true``.\n",
      "    \n",
      "        .. versionadded:: 0.18\n",
      "    \n",
      "    Returns\n",
      "    -------\n",
      "    loss : float\n",
      "    \n",
      "    Examples\n",
      "    --------\n",
      "    >>> from sklearn.metrics import log_loss\n",
      "    >>> log_loss([\"spam\", \"ham\", \"ham\", \"spam\"],\n",
      "    ...          [[.1, .9], [.9, .1], [.8, .2], [.35, .65]])\n",
      "    0.21616...\n",
      "    \n",
      "    References\n",
      "    ----------\n",
      "    C.M. Bishop (2006). Pattern Recognition and Machine Learning. Springer,\n",
      "    p. 209.\n",
      "    \n",
      "    Notes\n",
      "    -----\n",
      "    The logarithm used is the natural logarithm (base-e).\n",
      "\n"
     ]
    }
   ],
   "source": [
    "from sklearn.metrics import log_loss\n",
    "print(log_loss(y_true,pred_prob_class1))\n",
    "help(log_loss)"
   ]
  },
  {
   "cell_type": "markdown",
   "metadata": {
    "slideshow": {
     "slide_type": "slide"
    }
   },
   "source": [
    "## <font color='LIGHTGRAY'> Evaluation metrics in supervised ML, part 2, predicted probabilities and regression</font>\n",
    "\n",
    "<font color='LIGHTGRAY'>By the end of this lecture, you will be able to</font>\n",
    "- <font color='LIGHTGRAY'>Summarize the ROC and precision-recall curves, and the logloss metric</font>\n",
    "- **Describe the most commonly used regression metrics**\n"
   ]
  },
  {
   "cell_type": "markdown",
   "metadata": {
    "slideshow": {
     "slide_type": "subslide"
    }
   },
   "source": [
    "## Regression metrics\n",
    "- the target variable is continuous\n",
    "- the predicted values are also continuous\n",
    "- regression metrics measure some type of difference between y (true values) and y' (predicted values)"
   ]
  },
  {
   "cell_type": "markdown",
   "metadata": {
    "slideshow": {
     "slide_type": "subslide"
    }
   },
   "source": [
    "### Mean Squared Error \n",
    "\n",
    "### <center>$MSE(y,y') = \\frac{1}{n}\\sum_{i=1}^{n}(y_i-y_i')^2$</center>\n",
    "\n",
    "<center><img src=\"figures/polifit_1.jpg\" width=\"450\"></center>\n",
    "\n",
    "#### The unit of MSE is not the same as the target variable."
   ]
  },
  {
   "cell_type": "markdown",
   "metadata": {
    "slideshow": {
     "slide_type": "subslide"
    }
   },
   "source": [
    "### Root Mean Square Error\n",
    "\n",
    "### <center>$RMSE(y,y') = \\sqrt{\\frac{1}{n}\\sum_{i=1}^{n}(y_i-y_i')^2}$</center>\n",
    "\n",
    "\n",
    "### Mean Absolute Error\n",
    "\n",
    "### <center>$MAE(y,y') = \\frac{1}{n}\\sum_{i=1}^{n}|y_i-y_i'|$</center>\n",
    "\n",
    "#### Both RMSE and MAE have the same unit as the target variable.\n"
   ]
  },
  {
   "cell_type": "markdown",
   "metadata": {
    "slideshow": {
     "slide_type": "subslide"
    }
   },
   "source": [
    "## R2 score - coefficient of determination\n",
    "\n",
    "### <center>$R^2(y,y') = 1 - \\frac{\\sum_{i=1}^{n}(y_i-y_i')^2}{\\sum_{i=1}^{n}(y_i-\\bar{y})^2}$,</center>\n",
    "<center>where $\\bar{y}$ is the mean of $y$.</center>\n",
    "\n",
    "- R2 = 1 is the perfect regression model ($y == y'$)\n",
    "- R2 = 0 is as good as a constant model that always predicts the expected value of y ($\\bar{y}$)\n",
    "- R2 < 0 is a bad regression model\n",
    "\n",
    "#### R2 is dimensionless."
   ]
  },
  {
   "cell_type": "code",
   "execution_count": 9,
   "metadata": {
    "slideshow": {
     "slide_type": "subslide"
    }
   },
   "outputs": [],
   "source": [
    "from sklearn.metrics import mean_squared_error\n",
    "from sklearn.metrics import mean_absolute_error\n",
    "from sklearn.metrics import r2_score"
   ]
  },
  {
   "cell_type": "markdown",
   "metadata": {
    "slideshow": {
     "slide_type": "-"
    }
   },
   "source": [
    "- RMSE is not implemented in sklearn, but you can calculate it as `np.sqrt(mean_squared_error(y_true,y_pred))`\n",
    "- you can find more on regression metrics [here](https://scikit-learn.org/stable/modules/model_evaluation.html#regression-metrics)"
   ]
  },
  {
   "cell_type": "markdown",
   "metadata": {
    "slideshow": {
     "slide_type": "slide"
    }
   },
   "source": [
    "## Quiz 3\n",
    "Read in `data/reg_preds.csv`. It contains two columns: \n",
    "\n",
    "- y_true: value of owner-occupied homes in $1000's in Boston\n",
    "- y_pred: predictions of a regression model\n",
    "\n",
    "What's the ratio between the MSE and the variance of the home values? How does this ratio relate to the R2 score?"
   ]
  },
  {
   "cell_type": "code",
   "execution_count": null,
   "metadata": {},
   "outputs": [],
   "source": []
  },
  {
   "cell_type": "markdown",
   "metadata": {},
   "source": [
    "## Mudcard"
   ]
  },
  {
   "cell_type": "code",
   "execution_count": null,
   "metadata": {},
   "outputs": [],
   "source": []
  }
 ],
 "metadata": {
  "celltoolbar": "Slideshow",
  "kernelspec": {
   "display_name": "Python 3 (ipykernel)",
   "language": "python",
   "name": "python3"
  },
  "language_info": {
   "codemirror_mode": {
    "name": "ipython",
    "version": 3
   },
   "file_extension": ".py",
   "mimetype": "text/x-python",
   "name": "python",
   "nbconvert_exporter": "python",
   "pygments_lexer": "ipython3",
   "version": "3.9.7"
  }
 },
 "nbformat": 4,
 "nbformat_minor": 2
}
